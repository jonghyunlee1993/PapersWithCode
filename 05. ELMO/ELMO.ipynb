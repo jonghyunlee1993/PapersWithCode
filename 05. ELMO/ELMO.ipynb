{
  "nbformat": 4,
  "nbformat_minor": 0,
  "metadata": {
    "colab": {
      "name": "Copy of ELMO.ipynb",
      "provenance": [],
      "collapsed_sections": []
    },
    "kernelspec": {
      "display_name": "Python 3",
      "language": "python",
      "name": "python3"
    },
    "language_info": {
      "codemirror_mode": {
        "name": "ipython",
        "version": 3
      },
      "file_extension": ".py",
      "mimetype": "text/x-python",
      "name": "python",
      "nbconvert_exporter": "python",
      "pygments_lexer": "ipython3",
      "version": "3.8.8"
    },
    "accelerator": "GPU",
    "widgets": {
      "application/vnd.jupyter.widget-state+json": {
        "62b3899fedbc45b58f3409da1619ad71": {
          "model_module": "@jupyter-widgets/controls",
          "model_name": "HBoxModel",
          "state": {
            "_view_name": "HBoxView",
            "_dom_classes": [],
            "_model_name": "HBoxModel",
            "_view_module": "@jupyter-widgets/controls",
            "_model_module_version": "1.5.0",
            "_view_count": null,
            "_view_module_version": "1.5.0",
            "box_style": "",
            "layout": "IPY_MODEL_26e3d63c8f374125afff9593981b1ef5",
            "_model_module": "@jupyter-widgets/controls",
            "children": [
              "IPY_MODEL_c4ab35607e3b4426ad30dc956dfe5736",
              "IPY_MODEL_e8974b6c44084b4588a8d348bd0d78ae"
            ]
          }
        },
        "26e3d63c8f374125afff9593981b1ef5": {
          "model_module": "@jupyter-widgets/base",
          "model_name": "LayoutModel",
          "state": {
            "_view_name": "LayoutView",
            "grid_template_rows": null,
            "right": null,
            "justify_content": null,
            "_view_module": "@jupyter-widgets/base",
            "overflow": null,
            "_model_module_version": "1.2.0",
            "_view_count": null,
            "flex_flow": null,
            "width": null,
            "min_width": null,
            "border": null,
            "align_items": null,
            "bottom": null,
            "_model_module": "@jupyter-widgets/base",
            "top": null,
            "grid_column": null,
            "overflow_y": null,
            "overflow_x": null,
            "grid_auto_flow": null,
            "grid_area": null,
            "grid_template_columns": null,
            "flex": null,
            "_model_name": "LayoutModel",
            "justify_items": null,
            "grid_row": null,
            "max_height": null,
            "align_content": null,
            "visibility": null,
            "align_self": null,
            "height": null,
            "min_height": null,
            "padding": null,
            "grid_auto_rows": null,
            "grid_gap": null,
            "max_width": null,
            "order": null,
            "_view_module_version": "1.2.0",
            "grid_template_areas": null,
            "object_position": null,
            "object_fit": null,
            "grid_auto_columns": null,
            "margin": null,
            "display": null,
            "left": null
          }
        },
        "c4ab35607e3b4426ad30dc956dfe5736": {
          "model_module": "@jupyter-widgets/controls",
          "model_name": "FloatProgressModel",
          "state": {
            "_view_name": "ProgressView",
            "style": "IPY_MODEL_2dd2e684a09a4c4c974ab1b059a3aa84",
            "_dom_classes": [],
            "description": " 12%",
            "_model_name": "FloatProgressModel",
            "bar_style": "",
            "max": 540,
            "_view_module": "@jupyter-widgets/controls",
            "_model_module_version": "1.5.0",
            "value": 65,
            "_view_count": null,
            "_view_module_version": "1.5.0",
            "orientation": "horizontal",
            "min": 0,
            "description_tooltip": null,
            "_model_module": "@jupyter-widgets/controls",
            "layout": "IPY_MODEL_9f47e6c7e72f4742ba0367226331867b"
          }
        },
        "e8974b6c44084b4588a8d348bd0d78ae": {
          "model_module": "@jupyter-widgets/controls",
          "model_name": "HTMLModel",
          "state": {
            "_view_name": "HTMLView",
            "style": "IPY_MODEL_07e81fc74f2f432bb942c82ce64cc34e",
            "_dom_classes": [],
            "description": "",
            "_model_name": "HTMLModel",
            "placeholder": "​",
            "_view_module": "@jupyter-widgets/controls",
            "_model_module_version": "1.5.0",
            "value": " 65/540 [02:44&lt;19:56,  2.52s/it]",
            "_view_count": null,
            "_view_module_version": "1.5.0",
            "description_tooltip": null,
            "_model_module": "@jupyter-widgets/controls",
            "layout": "IPY_MODEL_937bf3be58ae4893ba291f3425ba20eb"
          }
        },
        "2dd2e684a09a4c4c974ab1b059a3aa84": {
          "model_module": "@jupyter-widgets/controls",
          "model_name": "ProgressStyleModel",
          "state": {
            "_view_name": "StyleView",
            "_model_name": "ProgressStyleModel",
            "description_width": "initial",
            "_view_module": "@jupyter-widgets/base",
            "_model_module_version": "1.5.0",
            "_view_count": null,
            "_view_module_version": "1.2.0",
            "bar_color": null,
            "_model_module": "@jupyter-widgets/controls"
          }
        },
        "9f47e6c7e72f4742ba0367226331867b": {
          "model_module": "@jupyter-widgets/base",
          "model_name": "LayoutModel",
          "state": {
            "_view_name": "LayoutView",
            "grid_template_rows": null,
            "right": null,
            "justify_content": null,
            "_view_module": "@jupyter-widgets/base",
            "overflow": null,
            "_model_module_version": "1.2.0",
            "_view_count": null,
            "flex_flow": null,
            "width": null,
            "min_width": null,
            "border": null,
            "align_items": null,
            "bottom": null,
            "_model_module": "@jupyter-widgets/base",
            "top": null,
            "grid_column": null,
            "overflow_y": null,
            "overflow_x": null,
            "grid_auto_flow": null,
            "grid_area": null,
            "grid_template_columns": null,
            "flex": null,
            "_model_name": "LayoutModel",
            "justify_items": null,
            "grid_row": null,
            "max_height": null,
            "align_content": null,
            "visibility": null,
            "align_self": null,
            "height": null,
            "min_height": null,
            "padding": null,
            "grid_auto_rows": null,
            "grid_gap": null,
            "max_width": null,
            "order": null,
            "_view_module_version": "1.2.0",
            "grid_template_areas": null,
            "object_position": null,
            "object_fit": null,
            "grid_auto_columns": null,
            "margin": null,
            "display": null,
            "left": null
          }
        },
        "07e81fc74f2f432bb942c82ce64cc34e": {
          "model_module": "@jupyter-widgets/controls",
          "model_name": "DescriptionStyleModel",
          "state": {
            "_view_name": "StyleView",
            "_model_name": "DescriptionStyleModel",
            "description_width": "",
            "_view_module": "@jupyter-widgets/base",
            "_model_module_version": "1.5.0",
            "_view_count": null,
            "_view_module_version": "1.2.0",
            "_model_module": "@jupyter-widgets/controls"
          }
        },
        "937bf3be58ae4893ba291f3425ba20eb": {
          "model_module": "@jupyter-widgets/base",
          "model_name": "LayoutModel",
          "state": {
            "_view_name": "LayoutView",
            "grid_template_rows": null,
            "right": null,
            "justify_content": null,
            "_view_module": "@jupyter-widgets/base",
            "overflow": null,
            "_model_module_version": "1.2.0",
            "_view_count": null,
            "flex_flow": null,
            "width": null,
            "min_width": null,
            "border": null,
            "align_items": null,
            "bottom": null,
            "_model_module": "@jupyter-widgets/base",
            "top": null,
            "grid_column": null,
            "overflow_y": null,
            "overflow_x": null,
            "grid_auto_flow": null,
            "grid_area": null,
            "grid_template_columns": null,
            "flex": null,
            "_model_name": "LayoutModel",
            "justify_items": null,
            "grid_row": null,
            "max_height": null,
            "align_content": null,
            "visibility": null,
            "align_self": null,
            "height": null,
            "min_height": null,
            "padding": null,
            "grid_auto_rows": null,
            "grid_gap": null,
            "max_width": null,
            "order": null,
            "_view_module_version": "1.2.0",
            "grid_template_areas": null,
            "object_position": null,
            "object_fit": null,
            "grid_auto_columns": null,
            "margin": null,
            "display": null,
            "left": null
          }
        }
      }
    }
  },
  "cells": [
    {
      "cell_type": "code",
      "metadata": {
        "colab": {
          "base_uri": "https://localhost:8080/"
        },
        "id": "3FpDfC47Ahi4",
        "outputId": "2ad67045-0d0b-4ff3-a835-dfc6d8a02adc"
      },
      "source": [
        "from google.colab import drive\n",
        "drive.mount('/content/drive')"
      ],
      "execution_count": 1,
      "outputs": [
        {
          "output_type": "stream",
          "text": [
            "Mounted at /content/drive\n"
          ],
          "name": "stdout"
        }
      ]
    },
    {
      "cell_type": "code",
      "metadata": {
        "id": "56CgMd4i688Z"
      },
      "source": [
        "import torch\n",
        "import torch.nn as nn\n",
        "import torch.nn.functional as F\n",
        "import torch.optim as optim\n",
        "\n",
        "from torch.nn.utils.rnn import pad_sequence\n",
        "from torch.utils.data import Dataset, DataLoader, TensorDataset\n",
        "from torch.optim.lr_scheduler import _LRScheduler, ReduceLROnPlateau, StepLR, LambdaLR\n",
        "\n",
        "import torchtext\n",
        "\n",
        "from torchtext.data.utils import get_tokenizer\n",
        "from torchtext.legacy.data import Dataset, Field, BucketIterator\n",
        "    \n",
        "import math\n",
        "import time\n",
        "import random\n",
        "import pickle\n",
        "import linecache\n",
        "import numpy as np\n",
        "import pandas as pd\n",
        "import matplotlib.pyplot as plt\n",
        "\n",
        "from sklearn.model_selection import train_test_split\n",
        "from tqdm.notebook import tqdm\n",
        "from collections import defaultdict, Counter\n",
        "\n",
        "import warnings\n",
        "\n",
        "warnings.filterwarnings(action='ignore')\n",
        "\n",
        "SEED = 1234\n",
        "BATCH_SIZE = 256\n",
        "\n",
        "random.seed(SEED)\n",
        "np.random.seed(SEED)\n",
        "torch.manual_seed(SEED)\n",
        "torch.cuda.manual_seed(SEED)\n",
        "torch.backends.cudnn.deterministic = True\n",
        "\n",
        "device = torch.device(\"cuda:0\" if torch.cuda.is_available() else \"cpu\")"
      ],
      "execution_count": 1,
      "outputs": []
    },
    {
      "cell_type": "code",
      "metadata": {
        "id": "sPiUDu8EzWFE"
      },
      "source": [
        "with open('drive/MyDrive/data/word_vocabulary.p', 'rb') as f:\n",
        "    index_to_word, word_to_index = pickle.load(f)\n",
        "\n",
        "with open('drive/MyDrive/data/char_vocabulary.p', 'rb')as f:\n",
        "    index_to_char, char_to_index = pickle.load(f)\n",
        "\n",
        "char_array = np.load(\"drive/MyDrive/data/char_array.npy\")\n",
        "word_array = np.load(\"drive/MyDrive/data/word_array.npy\").squeeze(1)\n",
        "\n",
        "X_train, X_test, y_train, y_test = train_test_split(char_array, word_array, test_size=0.2, random_state=SEED)\n",
        "\n",
        "X_train = torch.tensor(X_train, dtype=torch.long, device=device)\n",
        "X_test  = torch.tensor(X_test, dtype=torch.long, device=device)\n",
        "y_train = torch.tensor(y_train, dtype=torch.long, device=device)\n",
        "y_test  = torch.tensor(y_test, dtype=torch.long, device=device)\n",
        "\n",
        "train_dataset = TensorDataset(X_train, y_train)\n",
        "test_dataset  = TensorDataset(X_test, y_test)\n",
        "\n",
        "train_dataloader = DataLoader(train_dataset, batch_size=BATCH_SIZE, shuffle=True)\n",
        "test_dataloader  = DataLoader(test_dataset, batch_size=BATCH_SIZE, shuffle=False)"
      ],
      "execution_count": 2,
      "outputs": []
    },
    {
      "cell_type": "code",
      "metadata": {
        "id": "1lamc50oq6oX"
      },
      "source": [
        "class CNN1d(nn.Module):\n",
        "    def __init__(self, vocab_size, embedding_dim, n_filters, filter_sizes, output_dim, pad_idx, dropout=0.2):\n",
        "        super(CNN1d, self).__init__()\n",
        "        \n",
        "        self.embedding = nn.Embedding(vocab_size, embedding_dim, padding_idx=pad_idx)\n",
        "        self.convs = nn.ModuleList([\n",
        "                                    nn.Conv1d(in_channels  = embedding_dim, \n",
        "                                              out_channels = n_filters, \n",
        "                                              kernel_size  = fs)\n",
        "                                    for fs in filter_sizes\n",
        "                                    ])\n",
        "        \n",
        "        self.fc = nn.Linear(len(filter_sizes) * n_filters, output_dim)\n",
        "        self.dropout = nn.Dropout(dropout)\n",
        "        \n",
        "    def forward(self, text):       \n",
        "        embedded = self.embedding(text)\n",
        "        batch_size, word_len, char_len, emb_dim = embedded.size()\n",
        "        \n",
        "        # [batch * word_len, char_len, emb_dim]\n",
        "        embedded = embedded.reshape(-1, char_len, emb_dim)  \n",
        "        embedded = embedded.permute(0, 2, 1)\n",
        "        \n",
        "        conved = [F.relu(conv(embedded)) for conv in self.convs]\n",
        "        pooled = [F.max_pool1d(conv, conv.shape[2]).squeeze(2) for conv in conved]\n",
        "        cat    = self.dropout(torch.cat(pooled, dim=1))\n",
        "        output = self.fc(cat)\n",
        "\n",
        "        # [batch, word_len, output_dim]\n",
        "        output = cat.reshape(batch_size, word_len, -1)\n",
        "        \n",
        "        return output"
      ],
      "execution_count": 3,
      "outputs": []
    },
    {
      "cell_type": "code",
      "metadata": {
        "id": "tVZ9FLtB8JZ7"
      },
      "source": [
        "class Highway(nn.Module):\n",
        "    def __init__(self, size, n_layers, f):\n",
        "        super(Highway, self).__init__()\n",
        "\n",
        "        self.n_layers = n_layers\n",
        "        self.nonlinear = nn.ModuleList([nn.Linear(size, size) for _ in range(n_layers)])\n",
        "        self.linear = nn.ModuleList([nn.Linear(size, size) for _ in range(n_layers)])\n",
        "        self.gate = nn.ModuleList([nn.Linear(size, size) for _ in range(n_layers)])\n",
        "        self.f = f\n",
        "\n",
        "    def forward(self, x):\n",
        "        for layer in range(self.n_layers):\n",
        "            gate = F.sigmoid(self.gate[layer](x))\n",
        "\n",
        "            nonlinear = self.f(self.nonlinear[layer](x))\n",
        "            linear = self.linear[layer](x)\n",
        "\n",
        "            x = gate * nonlinear + (1 - gate) * linear\n",
        "\n",
        "        return x"
      ],
      "execution_count": 4,
      "outputs": []
    },
    {
      "cell_type": "code",
      "metadata": {
        "id": "gbpEzdl47NaS"
      },
      "source": [
        "class ELMO_Embedding(nn.Module):\n",
        "    def __init__(self, vocab_size, emb_dim, hid_dim, output_dim, pad_idx, n_layers=2, bidirectional=True):\n",
        "        super(ELMO_Embedding, self).__init__()\n",
        "\n",
        "        n_filters = 100\n",
        "        filter_sizes = [3, 4, 5]\n",
        "\n",
        "        self.embedding = CNN1d(vocab_size, emb_dim, n_filters, filter_sizes, emb_dim, pad_idx)\n",
        "        self.highway   = Highway(size=emb_dim, n_layers=1, f=F.relu)\n",
        "        self.rnn       = nn.LSTM(emb_dim, hid_dim, n_layers, bidirectional=bidirectional)        \n",
        "        self.fc_out    = nn.Linear(hid_dim, output_dim)\n",
        "\n",
        "    def forward(self, src):\n",
        "        embedding               = self.embedding(src)\n",
        "        highway                 = self.highway(embedding)\n",
        "\n",
        "        output, (hidden, state) = self.rnn(highway)\n",
        "\n",
        "        batch_size, seq_len, _  = output.size()\n",
        "        output                  = output.reshape(batch_size, seq_len, -1, 2)\n",
        "\n",
        "        forward_hid, backward_hid = output[:, :, :, 0], output[:, :, :, 1]\n",
        "        \n",
        "        forward_pred  = self.fc_out(forward_hid)\n",
        "        backward_pred = self.fc_out(backward_hid)\n",
        "\n",
        "        return forward_pred, backward_pred"
      ],
      "execution_count": 5,
      "outputs": []
    },
    {
      "cell_type": "code",
      "metadata": {
        "id": "0Cx-xa3NGgzz"
      },
      "source": [
        "def train(model, iterator, optimizer, criterion, output_dim, clip=1):\n",
        "    model.train()\n",
        "    epoch_loss = 0\n",
        "    \n",
        "    for batch in tqdm(iterator): \n",
        "        src = batch[0]\n",
        "        trg = batch[1]\n",
        "\n",
        "        optimizer.zero_grad()\n",
        "        fpred, bpred = model(src)\n",
        "\n",
        "        forward_loss  = criterion(fpred.reshape(-1, output_dim), trg.reshape(-1))\n",
        "        backward_loss = criterion(bpred.reshape(-1, output_dim), trg.reshape(-1))\n",
        "        loss = forward_loss + backward_loss\n",
        "        \n",
        "        loss.backward()\n",
        "        \n",
        "        torch.nn.utils.clip_grad_norm_(model.parameters(), clip)\n",
        "        \n",
        "        optimizer.step()\n",
        "        \n",
        "        epoch_loss += loss.item()\n",
        "        \n",
        "    return epoch_loss / len(iterator)"
      ],
      "execution_count": 6,
      "outputs": []
    },
    {
      "cell_type": "code",
      "metadata": {
        "id": "Dyrz3xqSrYf5"
      },
      "source": [
        "def evaluate(model, iterator, criterion, output_dim):\n",
        "    model.eval()\n",
        "    epoch_loss = 0\n",
        "    \n",
        "    with torch.no_grad():\n",
        "        for batch in iterator:\n",
        "            src = batch[0]\n",
        "            trg = batch[1]\n",
        "\n",
        "            fpred, bpred = model(src)\n",
        "\n",
        "            forward_loss  = criterion(fpred.reshape(-1, output_dim), trg.reshape(-1))\n",
        "            backward_loss = criterion(bpred.reshape(-1, output_dim), trg.reshape(-1))\n",
        "            loss = forward_loss + backward_loss\n",
        "\n",
        "            epoch_loss += loss.item()\n",
        "        \n",
        "    return epoch_loss / len(iterator)"
      ],
      "execution_count": 7,
      "outputs": []
    },
    {
      "cell_type": "code",
      "metadata": {
        "id": "bxeIIvIBuYpu"
      },
      "source": [
        "CHAR_VOCAB_SIZE = len(index_to_char)\n",
        "WORD_VOCAB_SIZE = len(index_to_word)\n",
        "EMB_DIM         = 300\n",
        "HID_DIM         = 1024\n",
        "PAD_IDX         = 0\n",
        "\n",
        "model     = ELMO_Embedding(CHAR_VOCAB_SIZE, EMB_DIM, HID_DIM, WORD_VOCAB_SIZE, PAD_IDX, n_layers=2, bidirectional=True)\n",
        "model     = model.to(device)\n",
        "criterion = nn.CrossEntropyLoss(ignore_index=PAD_IDX)\n",
        "optimizer = optim.Adam(model.parameters(), lr=0.0005)"
      ],
      "execution_count": 8,
      "outputs": []
    },
    {
      "cell_type": "code",
      "metadata": {
        "colab": {
          "base_uri": "https://localhost:8080/",
          "height": 49,
          "referenced_widgets": [
            "62b3899fedbc45b58f3409da1619ad71",
            "26e3d63c8f374125afff9593981b1ef5",
            "c4ab35607e3b4426ad30dc956dfe5736",
            "e8974b6c44084b4588a8d348bd0d78ae",
            "2dd2e684a09a4c4c974ab1b059a3aa84",
            "9f47e6c7e72f4742ba0367226331867b",
            "07e81fc74f2f432bb942c82ce64cc34e",
            "937bf3be58ae4893ba291f3425ba20eb"
          ]
        },
        "id": "3B2CRmblLiMx",
        "outputId": "98391705-d7a2-4c73-c50a-515c29ae19f9"
      },
      "source": [
        "N_EPOCHS  = 100\n",
        "PAITIENCE = 10\n",
        "\n",
        "n_paitience = 0\n",
        "best_valid_loss = float('inf')\n",
        "optimizer.zero_grad()\n",
        "optimizer.step()\n",
        "\n",
        "for epoch in range(N_EPOCHS):\n",
        "    train_loss = train(model, train_dataloader, optimizer, criterion, WORD_VOCAB_SIZE)\n",
        "    valid_loss = evaluate(model, valid_iterator, criterion)\n",
        "\n",
        "    print(f'Epoch: {epoch + 1:02}')\n",
        "    print(f'Train Loss: {train_loss:.3f} | Train PPL: {math.exp(train_loss):7.3f}')\n",
        "    print(f'Valid Loss: {valid_loss:.3f} | Train PPL: {math.exp(valid_loss):7.3f}')\n",
        "\n",
        "    if n_paitience < PAITIENCE:\n",
        "        if best_valid_loss > valid_loss:\n",
        "            best_valid_loss = valid_loss\n",
        "            torch.save(model.state_dict(), 'ELMO-LM_best.pt')\n",
        "            n_paitience = 0\n",
        "        elif best_valid_loss <= valid_loss:\n",
        "            n_paitience += 1\n",
        "    else:\n",
        "        print(\"Early stop!\")\n",
        "        model.load_state_dict(torch.load('ELMO-LM_best.pt'))\n",
        "        break"
      ],
      "execution_count": null,
      "outputs": [
        {
          "output_type": "display_data",
          "data": {
            "application/vnd.jupyter.widget-view+json": {
              "model_id": "62b3899fedbc45b58f3409da1619ad71",
              "version_minor": 0,
              "version_major": 2
            },
            "text/plain": [
              "HBox(children=(FloatProgress(value=0.0, max=540.0), HTML(value='')))"
            ]
          },
          "metadata": {
            "tags": []
          }
        }
      ]
    },
    {
      "cell_type": "code",
      "metadata": {
        "id": "3If0hdnjDpxv"
      },
      "source": [
        ""
      ],
      "execution_count": null,
      "outputs": []
    }
  ]
}