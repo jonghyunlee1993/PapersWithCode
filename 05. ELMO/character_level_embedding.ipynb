{
 "cells": [
  {
   "cell_type": "code",
   "execution_count": 69,
   "id": "9759185b",
   "metadata": {
    "scrolled": false
   },
   "outputs": [
    {
     "data": {
      "text/html": [
       "<div>\n",
       "<style scoped>\n",
       "    .dataframe tbody tr th:only-of-type {\n",
       "        vertical-align: middle;\n",
       "    }\n",
       "\n",
       "    .dataframe tbody tr th {\n",
       "        vertical-align: top;\n",
       "    }\n",
       "\n",
       "    .dataframe thead th {\n",
       "        text-align: right;\n",
       "    }\n",
       "</style>\n",
       "<table border=\"1\" class=\"dataframe\">\n",
       "  <thead>\n",
       "    <tr style=\"text-align: right;\">\n",
       "      <th></th>\n",
       "      <th>text</th>\n",
       "    </tr>\n",
       "  </thead>\n",
       "  <tbody>\n",
       "    <tr>\n",
       "      <th>0</th>\n",
       "      <td>인공지능 또는 AI는 인간의 학습능력 추론능력 지각능력 그외에 인공적으로 구현한 컴...</td>\n",
       "    </tr>\n",
       "    <tr>\n",
       "      <th>1</th>\n",
       "      <td>하나의 인프라 기술이기도 하다</td>\n",
       "    </tr>\n",
       "    <tr>\n",
       "      <th>2</th>\n",
       "      <td>인간을 포함한 동물이 갖고 있는 지능 즉 natural intelligence와는 ...</td>\n",
       "    </tr>\n",
       "    <tr>\n",
       "      <th>3</th>\n",
       "      <td>지능을 갖고 있는 기능을 갖춘 컴퓨터 시스템이며 인간의 지능을 기계 등에 인공적으로...</td>\n",
       "    </tr>\n",
       "    <tr>\n",
       "      <th>4</th>\n",
       "      <td>일반적으로 범용 컴퓨터에 적용한다고 가정한다</td>\n",
       "    </tr>\n",
       "  </tbody>\n",
       "</table>\n",
       "</div>"
      ],
      "text/plain": [
       "                                                text\n",
       "0  인공지능 또는 AI는 인간의 학습능력 추론능력 지각능력 그외에 인공적으로 구현한 컴...\n",
       "1                                   하나의 인프라 기술이기도 하다\n",
       "2  인간을 포함한 동물이 갖고 있는 지능 즉 natural intelligence와는 ...\n",
       "3  지능을 갖고 있는 기능을 갖춘 컴퓨터 시스템이며 인간의 지능을 기계 등에 인공적으로...\n",
       "4                          일반적으로 범용 컴퓨터에 적용한다고 가정한다 "
      ]
     },
     "execution_count": 69,
     "metadata": {},
     "output_type": "execute_result"
    }
   ],
   "source": [
    "from tensorflow.keras.preprocessing.sequence import pad_sequences\n",
    "import numpy as np\n",
    "import pandas as pd\n",
    "import konlpy\n",
    "\n",
    "data = pd.read_csv(\"sample_text.csv\", header=None, names=['text'])\n",
    "data.head()"
   ]
  },
  {
   "cell_type": "code",
   "execution_count": 70,
   "id": "929357bb",
   "metadata": {},
   "outputs": [
    {
     "data": {
      "text/html": [
       "<div>\n",
       "<style scoped>\n",
       "    .dataframe tbody tr th:only-of-type {\n",
       "        vertical-align: middle;\n",
       "    }\n",
       "\n",
       "    .dataframe tbody tr th {\n",
       "        vertical-align: top;\n",
       "    }\n",
       "\n",
       "    .dataframe thead th {\n",
       "        text-align: right;\n",
       "    }\n",
       "</style>\n",
       "<table border=\"1\" class=\"dataframe\">\n",
       "  <thead>\n",
       "    <tr style=\"text-align: right;\">\n",
       "      <th></th>\n",
       "      <th>text</th>\n",
       "      <th>morphs</th>\n",
       "    </tr>\n",
       "  </thead>\n",
       "  <tbody>\n",
       "    <tr>\n",
       "      <th>0</th>\n",
       "      <td>인공지능 또는 AI는 인간의 학습능력 추론능력 지각능력 그외에 인공적으로 구현한 컴...</td>\n",
       "      <td>[인공지능, 또는, AI, 는, 인간, 의, 학습, 능력, 추론, 능력, 지각, 능...</td>\n",
       "    </tr>\n",
       "    <tr>\n",
       "      <th>1</th>\n",
       "      <td>하나의 인프라 기술이기도 하다</td>\n",
       "      <td>[하나, 의, 인프라, 기술, 이, 기, 도, 하, 다]</td>\n",
       "    </tr>\n",
       "    <tr>\n",
       "      <th>2</th>\n",
       "      <td>인간을 포함한 동물이 갖고 있는 지능 즉 natural intelligence와는 ...</td>\n",
       "      <td>[인간, 을, 포함, 한, 동물, 이, 갖, 고, 있, 는, 지능, 즉, natur...</td>\n",
       "    </tr>\n",
       "    <tr>\n",
       "      <th>3</th>\n",
       "      <td>지능을 갖고 있는 기능을 갖춘 컴퓨터 시스템이며 인간의 지능을 기계 등에 인공적으로...</td>\n",
       "      <td>[지능, 을, 갖, 고, 있, 는, 기능, 을, 갖춘,  , 컴퓨터, 시스템, 이,...</td>\n",
       "    </tr>\n",
       "    <tr>\n",
       "      <th>4</th>\n",
       "      <td>일반적으로 범용 컴퓨터에 적용한다고 가정한다</td>\n",
       "      <td>[일반, 적, 으로, 범용, 컴퓨터, 에, 적용, 한다고, 가정, 한다]</td>\n",
       "    </tr>\n",
       "    <tr>\n",
       "      <th>5</th>\n",
       "      <td>이 용어는 또한 그와 같은 지능을 만들 수 있는 방법론이나 실현 가능성 등을 연구하...</td>\n",
       "      <td>[이, 용어, 는, 또한, 그, 와, 같, 은, 지능, 을, 만들, 수, 있, 는,...</td>\n",
       "    </tr>\n",
       "  </tbody>\n",
       "</table>\n",
       "</div>"
      ],
      "text/plain": [
       "                                                text  \\\n",
       "0  인공지능 또는 AI는 인간의 학습능력 추론능력 지각능력 그외에 인공적으로 구현한 컴...   \n",
       "1                                   하나의 인프라 기술이기도 하다   \n",
       "2  인간을 포함한 동물이 갖고 있는 지능 즉 natural intelligence와는 ...   \n",
       "3  지능을 갖고 있는 기능을 갖춘 컴퓨터 시스템이며 인간의 지능을 기계 등에 인공적으로...   \n",
       "4                          일반적으로 범용 컴퓨터에 적용한다고 가정한다    \n",
       "5  이 용어는 또한 그와 같은 지능을 만들 수 있는 방법론이나 실현 가능성 등을 연구하...   \n",
       "\n",
       "                                              morphs  \n",
       "0  [인공지능, 또는, AI, 는, 인간, 의, 학습, 능력, 추론, 능력, 지각, 능...  \n",
       "1                    [하나, 의, 인프라, 기술, 이, 기, 도, 하, 다]  \n",
       "2  [인간, 을, 포함, 한, 동물, 이, 갖, 고, 있, 는, 지능, 즉, natur...  \n",
       "3  [지능, 을, 갖, 고, 있, 는, 기능, 을, 갖춘,  , 컴퓨터, 시스템, 이,...  \n",
       "4           [일반, 적, 으로, 범용, 컴퓨터, 에, 적용, 한다고, 가정, 한다]  \n",
       "5  [이, 용어, 는, 또한, 그, 와, 같, 은, 지능, 을, 만들, 수, 있, 는,...  "
      ]
     },
     "execution_count": 70,
     "metadata": {},
     "output_type": "execute_result"
    }
   ],
   "source": [
    "data['text'] = data['text'].str.replace(\",\", \"\").replace(\".\", \"\")\n",
    "data['morphs'] = data['text'].map(lambda x: tokenizer.morphs(x))\n",
    "data"
   ]
  },
  {
   "cell_type": "code",
   "execution_count": 71,
   "id": "7c678df3",
   "metadata": {
    "scrolled": true
   },
   "outputs": [],
   "source": [
    "words = set()\n",
    "data['morphs'].map(lambda x: words.update(set(x)))\n",
    "\n",
    "word_to_index = {w: i + 4 for i, w in enumerate(words)}\n",
    "word_to_index[\"PAD\"] = 0\n",
    "word_to_index[\"UNK\"] = 1\n",
    "word_to_index[\"SOS\"] = 2\n",
    "word_to_index[\"EOS\"] = 3\n",
    "\n",
    "index_to_word = {}\n",
    "for key, value in word_to_index.items():\n",
    "    index_to_word[value] = key"
   ]
  },
  {
   "cell_type": "code",
   "execution_count": 72,
   "id": "4b149449",
   "metadata": {},
   "outputs": [],
   "source": [
    "chars = set([w_i for w in word_set for w_i in w])\n",
    "chars = sorted(list(chars))\n",
    "\n",
    "char_to_index = {c: i + 2 for i, c in enumerate(chars)}\n",
    "char_to_index[\"PAD\"] = 0\n",
    "char_to_index[\"UNK\"] = 1\n",
    "\n",
    "index_to_char = {}\n",
    "for key, value in char_to_index.items():\n",
    "    index_to_char[value] = key"
   ]
  },
  {
   "cell_type": "code",
   "execution_count": 132,
   "id": "37cf4466",
   "metadata": {},
   "outputs": [],
   "source": [
    "max_len_char = 10\n",
    "max_len_word = 50\n",
    "\n",
    "def integer_coding(sentences, max_len_char, max_len_word):\n",
    "    word_data = []\n",
    "    \n",
    "    for i, word in enumerate(sentences):\n",
    "        word_data.append(word_to_index[word])\n",
    "        char_indice = [[char_to_index[char] for char in word]]\n",
    "        char_indice = pad_sequences(char_indice, maxlen=max_len_char, padding='post', value=0)\n",
    "\n",
    "        for chars_of_token in char_indice:\n",
    "            if len(chars_of_token) > max_len_char:\n",
    "                continue\n",
    "        \n",
    "        if i == 0:\n",
    "            char_data = char_indice\n",
    "        else:\n",
    "            char_data = np.vstack([char_data, char_indice])\n",
    "    \n",
    "    pad_char_data = max_len_word - char_data.shape[0]\n",
    "    \n",
    "    char_data = np.pad(char_data, ((0, pad_char_data), (0, 0)), 'constant', constant_values=0)\n",
    "    word_data = pad_sequences([word_data], maxlen=max_len_word, padding='post', value=0)\n",
    "    \n",
    "    return word_data, char_data"
   ]
  },
  {
   "cell_type": "code",
   "execution_count": 133,
   "id": "ef2bb14e",
   "metadata": {},
   "outputs": [
    {
     "data": {
      "text/plain": [
       "['인공지능',\n",
       " '또는',\n",
       " 'AI',\n",
       " '는',\n",
       " '인간',\n",
       " '의',\n",
       " '학습',\n",
       " '능력',\n",
       " '추론',\n",
       " '능력',\n",
       " '지각',\n",
       " '능력',\n",
       " '그',\n",
       " '외',\n",
       " '에',\n",
       " '인공',\n",
       " '적',\n",
       " '으로',\n",
       " '구현',\n",
       " '한',\n",
       " '컴퓨터',\n",
       " '프로그램',\n",
       " '또는',\n",
       " '이',\n",
       " '를',\n",
       " '포함',\n",
       " '한',\n",
       " '컴퓨터',\n",
       " '시스템',\n",
       " '이',\n",
       " '다']"
      ]
     },
     "execution_count": 133,
     "metadata": {},
     "output_type": "execute_result"
    }
   ],
   "source": [
    "data.loc[0, \"morphs\"]"
   ]
  },
  {
   "cell_type": "code",
   "execution_count": 134,
   "id": "66dffa2d",
   "metadata": {},
   "outputs": [
    {
     "data": {
      "text/plain": [
       "array([[73, 24, 79, 32,  0,  0,  0,  0,  0,  0],\n",
       "       [38, 31,  0,  0,  0,  0,  0,  0,  0,  0],\n",
       "       [ 2,  3,  0,  0,  0,  0,  0,  0,  0,  0],\n",
       "       [31,  0,  0,  0,  0,  0,  0,  0,  0,  0],\n",
       "       [73, 17,  0,  0,  0,  0,  0,  0,  0,  0],\n",
       "       [71,  0,  0,  0,  0,  0,  0,  0,  0,  0],\n",
       "       [90, 58,  0,  0,  0,  0,  0,  0,  0,  0],\n",
       "       [32, 41,  0,  0,  0,  0,  0,  0,  0,  0],\n",
       "       [80, 43,  0,  0,  0,  0,  0,  0,  0,  0],\n",
       "       [32, 41,  0,  0,  0,  0,  0,  0,  0,  0],\n",
       "       [79, 16,  0,  0,  0,  0,  0,  0,  0,  0],\n",
       "       [32, 41,  0,  0,  0,  0,  0,  0,  0,  0],\n",
       "       [27,  0,  0,  0,  0,  0,  0,  0,  0,  0],\n",
       "       [66,  0,  0,  0,  0,  0,  0,  0,  0,  0],\n",
       "       [63,  0,  0,  0,  0,  0,  0,  0,  0,  0],\n",
       "       [73, 24,  0,  0,  0,  0,  0,  0,  0,  0],\n",
       "       [76,  0,  0,  0,  0,  0,  0,  0,  0,  0],\n",
       "       [68, 42,  0,  0,  0,  0,  0,  0,  0,  0],\n",
       "       [26, 93,  0,  0,  0,  0,  0,  0,  0,  0],\n",
       "       [91,  0,  0,  0,  0,  0,  0,  0,  0,  0],\n",
       "       [83, 87, 84,  0,  0,  0,  0,  0,  0,  0],\n",
       "       [88, 42, 27, 40,  0,  0,  0,  0,  0,  0],\n",
       "       [38, 31,  0,  0,  0,  0,  0,  0,  0,  0],\n",
       "       [72,  0,  0,  0,  0,  0,  0,  0,  0,  0],\n",
       "       [45,  0,  0,  0,  0,  0,  0,  0,  0,  0],\n",
       "       [86, 92,  0,  0,  0,  0,  0,  0,  0,  0],\n",
       "       [91,  0,  0,  0,  0,  0,  0,  0,  0,  0],\n",
       "       [83, 87, 84,  0,  0,  0,  0,  0,  0,  0],\n",
       "       [59, 57, 85,  0,  0,  0,  0,  0,  0,  0],\n",
       "       [72,  0,  0,  0,  0,  0,  0,  0,  0,  0],\n",
       "       [33,  0,  0,  0,  0,  0,  0,  0,  0,  0],\n",
       "       [ 0,  0,  0,  0,  0,  0,  0,  0,  0,  0],\n",
       "       [ 0,  0,  0,  0,  0,  0,  0,  0,  0,  0],\n",
       "       [ 0,  0,  0,  0,  0,  0,  0,  0,  0,  0],\n",
       "       [ 0,  0,  0,  0,  0,  0,  0,  0,  0,  0],\n",
       "       [ 0,  0,  0,  0,  0,  0,  0,  0,  0,  0],\n",
       "       [ 0,  0,  0,  0,  0,  0,  0,  0,  0,  0],\n",
       "       [ 0,  0,  0,  0,  0,  0,  0,  0,  0,  0],\n",
       "       [ 0,  0,  0,  0,  0,  0,  0,  0,  0,  0],\n",
       "       [ 0,  0,  0,  0,  0,  0,  0,  0,  0,  0],\n",
       "       [ 0,  0,  0,  0,  0,  0,  0,  0,  0,  0],\n",
       "       [ 0,  0,  0,  0,  0,  0,  0,  0,  0,  0],\n",
       "       [ 0,  0,  0,  0,  0,  0,  0,  0,  0,  0],\n",
       "       [ 0,  0,  0,  0,  0,  0,  0,  0,  0,  0],\n",
       "       [ 0,  0,  0,  0,  0,  0,  0,  0,  0,  0],\n",
       "       [ 0,  0,  0,  0,  0,  0,  0,  0,  0,  0],\n",
       "       [ 0,  0,  0,  0,  0,  0,  0,  0,  0,  0],\n",
       "       [ 0,  0,  0,  0,  0,  0,  0,  0,  0,  0],\n",
       "       [ 0,  0,  0,  0,  0,  0,  0,  0,  0,  0],\n",
       "       [ 0,  0,  0,  0,  0,  0,  0,  0,  0,  0]], dtype=int32)"
      ]
     },
     "execution_count": 134,
     "metadata": {},
     "output_type": "execute_result"
    }
   ],
   "source": [
    "X_word_data, X_char_data = integer_coding(data.loc[0, \"morphs\"], max_len_char, max_len_word)\n",
    "X_char_data"
   ]
  },
  {
   "cell_type": "code",
   "execution_count": 135,
   "id": "b6343901",
   "metadata": {},
   "outputs": [
    {
     "data": {
      "text/plain": [
       "array([[19, 43, 57, 27, 69,  7,  5, 51, 17, 51, 34, 51, 67, 59, 39, 40,\n",
       "        33, 75, 55, 52,  9, 45, 43, 10, 46, 16, 52,  9, 74, 10, 70,  0,\n",
       "         0,  0,  0,  0,  0,  0,  0,  0,  0,  0,  0,  0,  0,  0,  0,  0,\n",
       "         0,  0]], dtype=int32)"
      ]
     },
     "execution_count": 135,
     "metadata": {},
     "output_type": "execute_result"
    }
   ],
   "source": [
    "X_word_data"
   ]
  },
  {
   "cell_type": "code",
   "execution_count": null,
   "id": "a6ce7201",
   "metadata": {},
   "outputs": [],
   "source": []
  }
 ],
 "metadata": {
  "kernelspec": {
   "display_name": "Python 3",
   "language": "python",
   "name": "python3"
  },
  "language_info": {
   "codemirror_mode": {
    "name": "ipython",
    "version": 3
   },
   "file_extension": ".py",
   "mimetype": "text/x-python",
   "name": "python",
   "nbconvert_exporter": "python",
   "pygments_lexer": "ipython3",
   "version": "3.8.8"
  }
 },
 "nbformat": 4,
 "nbformat_minor": 5
}
