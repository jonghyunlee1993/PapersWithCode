{
 "cells": [
  {
   "cell_type": "code",
   "execution_count": 14,
   "id": "9759185b",
   "metadata": {
    "scrolled": true
   },
   "outputs": [
    {
     "data": {
      "text/html": [
       "<div>\n",
       "<style scoped>\n",
       "    .dataframe tbody tr th:only-of-type {\n",
       "        vertical-align: middle;\n",
       "    }\n",
       "\n",
       "    .dataframe tbody tr th {\n",
       "        vertical-align: top;\n",
       "    }\n",
       "\n",
       "    .dataframe thead th {\n",
       "        text-align: right;\n",
       "    }\n",
       "</style>\n",
       "<table border=\"1\" class=\"dataframe\">\n",
       "  <thead>\n",
       "    <tr style=\"text-align: right;\">\n",
       "      <th></th>\n",
       "      <th>text</th>\n",
       "    </tr>\n",
       "  </thead>\n",
       "  <tbody>\n",
       "    <tr>\n",
       "      <th>0</th>\n",
       "      <td>인공지능 또는 AI는 인간의 학습능력 추론능력 지각능력 그외에 인공적으로 구현한 컴...</td>\n",
       "    </tr>\n",
       "    <tr>\n",
       "      <th>1</th>\n",
       "      <td>하나의 인프라 기술이기도 하다</td>\n",
       "    </tr>\n",
       "    <tr>\n",
       "      <th>2</th>\n",
       "      <td>인간을 포함한 동물이 갖고 있는 지능 즉 natural intelligence와는 ...</td>\n",
       "    </tr>\n",
       "    <tr>\n",
       "      <th>3</th>\n",
       "      <td>지능을 갖고 있는 기능을 갖춘 컴퓨터 시스템이며 인간의 지능을 기계 등에 인공적으로...</td>\n",
       "    </tr>\n",
       "    <tr>\n",
       "      <th>4</th>\n",
       "      <td>일반적으로 범용 컴퓨터에 적용한다고 가정한다</td>\n",
       "    </tr>\n",
       "  </tbody>\n",
       "</table>\n",
       "</div>"
      ],
      "text/plain": [
       "                                                text\n",
       "0  인공지능 또는 AI는 인간의 학습능력 추론능력 지각능력 그외에 인공적으로 구현한 컴...\n",
       "1                                   하나의 인프라 기술이기도 하다\n",
       "2  인간을 포함한 동물이 갖고 있는 지능 즉 natural intelligence와는 ...\n",
       "3  지능을 갖고 있는 기능을 갖춘 컴퓨터 시스템이며 인간의 지능을 기계 등에 인공적으로...\n",
       "4                          일반적으로 범용 컴퓨터에 적용한다고 가정한다 "
      ]
     },
     "execution_count": 14,
     "metadata": {},
     "output_type": "execute_result"
    }
   ],
   "source": [
    "import pandas as pd\n",
    "import konlpy\n",
    "\n",
    "data = pd.read_csv(\"sample_text.csv\", header=None, names=['text'])\n",
    "data.head()"
   ]
  },
  {
   "cell_type": "code",
   "execution_count": 15,
   "id": "86965cbc",
   "metadata": {},
   "outputs": [
    {
     "data": {
      "text/plain": [
       "['안녕', '하', '세요']"
      ]
     },
     "execution_count": 15,
     "metadata": {},
     "output_type": "execute_result"
    }
   ],
   "source": [
    "tokenizer = konlpy.tag.Mecab()\n",
    "tokenizer.morphs(\"안녕하세요\")"
   ]
  },
  {
   "cell_type": "code",
   "execution_count": 16,
   "id": "929357bb",
   "metadata": {},
   "outputs": [
    {
     "data": {
      "text/html": [
       "<div>\n",
       "<style scoped>\n",
       "    .dataframe tbody tr th:only-of-type {\n",
       "        vertical-align: middle;\n",
       "    }\n",
       "\n",
       "    .dataframe tbody tr th {\n",
       "        vertical-align: top;\n",
       "    }\n",
       "\n",
       "    .dataframe thead th {\n",
       "        text-align: right;\n",
       "    }\n",
       "</style>\n",
       "<table border=\"1\" class=\"dataframe\">\n",
       "  <thead>\n",
       "    <tr style=\"text-align: right;\">\n",
       "      <th></th>\n",
       "      <th>text</th>\n",
       "      <th>morphs</th>\n",
       "    </tr>\n",
       "  </thead>\n",
       "  <tbody>\n",
       "    <tr>\n",
       "      <th>0</th>\n",
       "      <td>인공지능 또는 AI는 인간의 학습능력 추론능력 지각능력 그외에 인공적으로 구현한 컴...</td>\n",
       "      <td>[인공지능, 또는, AI, 는, 인간, 의, 학습, 능력, 추론, 능력, 지각, 능...</td>\n",
       "    </tr>\n",
       "    <tr>\n",
       "      <th>1</th>\n",
       "      <td>하나의 인프라 기술이기도 하다</td>\n",
       "      <td>[하나, 의, 인프라, 기술, 이, 기, 도, 하, 다]</td>\n",
       "    </tr>\n",
       "    <tr>\n",
       "      <th>2</th>\n",
       "      <td>인간을 포함한 동물이 갖고 있는 지능 즉 natural intelligence와는 ...</td>\n",
       "      <td>[인간, 을, 포함, 한, 동물, 이, 갖, 고, 있, 는, 지능, 즉, natur...</td>\n",
       "    </tr>\n",
       "    <tr>\n",
       "      <th>3</th>\n",
       "      <td>지능을 갖고 있는 기능을 갖춘 컴퓨터 시스템이며 인간의 지능을 기계 등에 인공적으로...</td>\n",
       "      <td>[지능, 을, 갖, 고, 있, 는, 기능, 을, 갖춘,  , 컴퓨터, 시스템, 이,...</td>\n",
       "    </tr>\n",
       "    <tr>\n",
       "      <th>4</th>\n",
       "      <td>일반적으로 범용 컴퓨터에 적용한다고 가정한다</td>\n",
       "      <td>[일반, 적, 으로, 범용, 컴퓨터, 에, 적용, 한다고, 가정, 한다]</td>\n",
       "    </tr>\n",
       "    <tr>\n",
       "      <th>5</th>\n",
       "      <td>이 용어는 또한 그와 같은 지능을 만들 수 있는 방법론이나 실현 가능성 등을 연구하...</td>\n",
       "      <td>[이, 용어, 는, 또한, 그, 와, 같, 은, 지능, 을, 만들, 수, 있, 는,...</td>\n",
       "    </tr>\n",
       "  </tbody>\n",
       "</table>\n",
       "</div>"
      ],
      "text/plain": [
       "                                                text  \\\n",
       "0  인공지능 또는 AI는 인간의 학습능력 추론능력 지각능력 그외에 인공적으로 구현한 컴...   \n",
       "1                                   하나의 인프라 기술이기도 하다   \n",
       "2  인간을 포함한 동물이 갖고 있는 지능 즉 natural intelligence와는 ...   \n",
       "3  지능을 갖고 있는 기능을 갖춘 컴퓨터 시스템이며 인간의 지능을 기계 등에 인공적으로...   \n",
       "4                          일반적으로 범용 컴퓨터에 적용한다고 가정한다    \n",
       "5  이 용어는 또한 그와 같은 지능을 만들 수 있는 방법론이나 실현 가능성 등을 연구하...   \n",
       "\n",
       "                                              morphs  \n",
       "0  [인공지능, 또는, AI, 는, 인간, 의, 학습, 능력, 추론, 능력, 지각, 능...  \n",
       "1                    [하나, 의, 인프라, 기술, 이, 기, 도, 하, 다]  \n",
       "2  [인간, 을, 포함, 한, 동물, 이, 갖, 고, 있, 는, 지능, 즉, natur...  \n",
       "3  [지능, 을, 갖, 고, 있, 는, 기능, 을, 갖춘,  , 컴퓨터, 시스템, 이,...  \n",
       "4           [일반, 적, 으로, 범용, 컴퓨터, 에, 적용, 한다고, 가정, 한다]  \n",
       "5  [이, 용어, 는, 또한, 그, 와, 같, 은, 지능, 을, 만들, 수, 있, 는,...  "
      ]
     },
     "execution_count": 16,
     "metadata": {},
     "output_type": "execute_result"
    }
   ],
   "source": [
    "data['text'] = data['text'].str.replace(\",\", \"\").replace(\".\", \"\")\n",
    "data['morphs'] = data['text'].map(lambda x: tokenizer.morphs(x))\n",
    "data"
   ]
  },
  {
   "cell_type": "code",
   "execution_count": 28,
   "id": "7c678df3",
   "metadata": {
    "scrolled": true
   },
   "outputs": [
    {
     "data": {
      "text/plain": [
       "{'AI',\n",
       " 'intelligence',\n",
       " 'natural',\n",
       " '\\xa0',\n",
       " '가능',\n",
       " '가정',\n",
       " '갖',\n",
       " '갖춘',\n",
       " '같',\n",
       " '개념',\n",
       " '것',\n",
       " '고',\n",
       " '과학',\n",
       " '구현',\n",
       " '그',\n",
       " '기',\n",
       " '기계',\n",
       " '기능',\n",
       " '기술',\n",
       " '는',\n",
       " '능력',\n",
       " '다',\n",
       " '다른',\n",
       " '도',\n",
       " '동물',\n",
       " '등',\n",
       " '또는',\n",
       " '또한',\n",
       " '를',\n",
       " '만들',\n",
       " '며',\n",
       " '방법론',\n",
       " '범용',\n",
       " '분야',\n",
       " '성',\n",
       " '수',\n",
       " '시스템',\n",
       " '시연',\n",
       " '실현',\n",
       " '에',\n",
       " '연구',\n",
       " '와',\n",
       " '외',\n",
       " '용어',\n",
       " '으로',\n",
       " '은',\n",
       " '을',\n",
       " '의',\n",
       " '이',\n",
       " '이나',\n",
       " '인간',\n",
       " '인공',\n",
       " '인공지능',\n",
       " '인프라',\n",
       " '일반',\n",
       " '있',\n",
       " '적',\n",
       " '적용',\n",
       " '즉',\n",
       " '지각',\n",
       " '지능',\n",
       " '지칭',\n",
       " '추론',\n",
       " '컴퓨터',\n",
       " '포함',\n",
       " '프로그램',\n",
       " '하',\n",
       " '하나',\n",
       " '학습',\n",
       " '한',\n",
       " '한다',\n",
       " '한다고'}"
      ]
     },
     "execution_count": 28,
     "metadata": {},
     "output_type": "execute_result"
    }
   ],
   "source": [
    "word_set = set()\n",
    "\n",
    "data['morphs'].map(lambda x: word_set.update(set(x)))\n",
    "\n",
    "word_set"
   ]
  },
  {
   "cell_type": "code",
   "execution_count": 29,
   "id": "4b149449",
   "metadata": {},
   "outputs": [
    {
     "name": "stdout",
     "output_type": "stream",
     "text": [
      "['A', 'I', 'a', 'c', 'e', 'g', 'i', 'l', 'n', 'r', 't', 'u', '\\xa0', '가', '각', '간', '갖', '같', '개', '것', '계', '고', '공', '과', '구', '그', '기', '나', '념', '는', '능', '다', '도', '동', '들', '등', '또', '라', '램', '력', '로', '론', '른', '를', '만', '며', '물', '반', '방', '범', '법', '분', '성', '수', '술', '스', '습', '시', '실', '야', '어', '에', '연', '와', '외', '용', '으', '은', '을', '의', '이', '인', '일', '있', '적', '정', '즉', '지', '추', '춘', '칭', '컴', '터', '템', '포', '퓨', '프', '하', '학', '한', '함', '현']\n"
     ]
    }
   ],
   "source": [
    "chars = set([w_i for w in word_set for w_i in w])\n",
    "chars = sorted(list(chars))\n",
    "print(chars)"
   ]
  },
  {
   "cell_type": "code",
   "execution_count": null,
   "id": "3cc63101",
   "metadata": {},
   "outputs": [],
   "source": []
  }
 ],
 "metadata": {
  "kernelspec": {
   "display_name": "Python 3",
   "language": "python",
   "name": "python3"
  },
  "language_info": {
   "codemirror_mode": {
    "name": "ipython",
    "version": 3
   },
   "file_extension": ".py",
   "mimetype": "text/x-python",
   "name": "python",
   "nbconvert_exporter": "python",
   "pygments_lexer": "ipython3",
   "version": "3.8.8"
  }
 },
 "nbformat": 4,
 "nbformat_minor": 5
}
