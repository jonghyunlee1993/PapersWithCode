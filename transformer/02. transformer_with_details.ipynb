{
  "nbformat": 4,
  "nbformat_minor": 0,
  "metadata": {
    "accelerator": "GPU",
    "colab": {
      "name": "Copy of Copy of 6 - Attention is All You Need.ipynb",
      "provenance": [],
      "collapsed_sections": []
    },
    "kernelspec": {
      "display_name": "Python 3",
      "language": "python",
      "name": "python3"
    },
    "language_info": {
      "codemirror_mode": {
        "name": "ipython",
        "version": 3
      },
      "file_extension": ".py",
      "mimetype": "text/x-python",
      "name": "python",
      "nbconvert_exporter": "python",
      "pygments_lexer": "ipython3",
      "version": "3.8.8"
    }
  },
  "cells": [
    {
      "cell_type": "code",
      "metadata": {
        "id": "n6yyFFpir9fK"
      },
      "source": [
        "%%capture\n",
        "!pip install spacy==3.0.5 --quiet\n",
        "\n",
        "!mkdir -p .data/multi30k\n",
        "!git clone https://github.com/multi30k/dataset.git\n",
        "\n",
        "!cp dataset/data/task1/raw/train.fr.gz .data/multi30k\n",
        "!cp dataset/data/task1/raw/train.en.gz .data/multi30k\n",
        "\n",
        "!cp dataset/data/task1/raw/val.fr.gz .data/multi30k\n",
        "!cp dataset/data/task1/raw/val.en.gz .data/multi30k\n",
        "\n",
        "!cp dataset/data/task1/raw/test_2016_flickr.fr.gz .data/multi30k\n",
        "!cp dataset/data/task1/raw/test_2016_flickr.en.gz .data/multi30k\n",
        "\n",
        "!gzip -d .data/multi30k/train.fr.gz\n",
        "!gzip -d .data/multi30k/train.en.gz\n",
        "\n",
        "!gzip -d .data/multi30k/val.fr.gz\n",
        "!gzip -d .data/multi30k/val.en.gz\n",
        "\n",
        "!gzip -d .data/multi30k/test_2016_flickr.fr.gz\n",
        "!gzip -d .data/multi30k/test_2016_flickr.en.gz\n",
        "\n",
        "!mv .data/multi30k/test_2016_flickr.fr .data/multi30k/test2016.fr\n",
        "!mv .data/multi30k/test_2016_flickr.en .data/multi30k/test2016.en\n",
        "\n",
        "!python3 -m spacy download fr_core_news_sm\n",
        "!python3 -m spacy download en_core_web_sm"
      ],
      "execution_count": 1,
      "outputs": []
    },
    {
      "cell_type": "code",
      "metadata": {
        "id": "GpsYRSOgH_ZG"
      },
      "source": [
        "import torch\n",
        "import torch.nn as nn\n",
        "import torch.optim as optim\n",
        "import torch.nn.functional as F\n",
        "from torch.optim.lr_scheduler import _LRScheduler, ReduceLROnPlateau, StepLR, LambdaLR\n",
        "\n",
        "import torchtext\n",
        "from torchtext.legacy.datasets import Multi30k\n",
        "from torchtext.legacy.data import Field, BucketIterator\n",
        "    \n",
        "import matplotlib.pyplot as plt\n",
        "import matplotlib.ticker as ticker\n",
        "\n",
        "import spacy\n",
        "import numpy as np\n",
        "\n",
        "import random\n",
        "import math\n",
        "import time\n",
        "\n",
        "SEED = 1234\n",
        "\n",
        "random.seed(SEED)\n",
        "np.random.seed(SEED)\n",
        "torch.manual_seed(SEED)\n",
        "torch.cuda.manual_seed(SEED)\n",
        "torch.backends.cudnn.deterministic = True"
      ],
      "execution_count": 1,
      "outputs": []
    },
    {
      "cell_type": "code",
      "metadata": {
        "id": "egmEZbNPH_ZH"
      },
      "source": [
        "def tokenize_fr(text):\n",
        "    \"\"\"\n",
        "    Tokenizes German text from a string into a list of strings\n",
        "    \"\"\"\n",
        "    return [tok.text for tok in spacy_fr.tokenizer(text)]\n",
        "\n",
        "def tokenize_en(text):\n",
        "    \"\"\"\n",
        "    Tokenizes English text from a string into a list of strings\n",
        "    \"\"\"\n",
        "    return [tok.text for tok in spacy_en.tokenizer(text)]\n",
        "\n",
        "spacy_fr = spacy.load('fr_core_news_sm')\n",
        "spacy_en = spacy.load('en_core_web_sm')\n",
        "\n",
        "SRC = Field(tokenize=tokenize_fr, \n",
        "            init_token='<sos>', \n",
        "            eos_token='<eos>', \n",
        "            lower=True, \n",
        "            batch_first=True)\n",
        "\n",
        "TRG = Field(tokenize=tokenize_en, \n",
        "            init_token='<sos>', \n",
        "            eos_token='<eos>', \n",
        "            lower=True, \n",
        "            batch_first=True)\n",
        "\n",
        "train_data, valid_data, test_data = Multi30k.splits(exts=('.fr', '.en'), fields=(SRC, TRG))\n",
        "\n",
        "SRC.build_vocab(train_data, min_freq=2)\n",
        "TRG.build_vocab(train_data, min_freq=2)"
      ],
      "execution_count": 2,
      "outputs": []
    },
    {
      "cell_type": "code",
      "metadata": {
        "id": "GKsjUFleH_ZJ"
      },
      "source": [
        "device = torch.device('cuda' if torch.cuda.is_available() else 'cpu')\n",
        "\n",
        "BATCH_SIZE = 128\n",
        "\n",
        "train_iterator, valid_iterator, test_iterator = BucketIterator.splits(\n",
        "    (train_data, valid_data, test_data), \n",
        "     batch_size=BATCH_SIZE,\n",
        "     device=device)"
      ],
      "execution_count": 3,
      "outputs": []
    },
    {
      "cell_type": "code",
      "metadata": {
        "id": "8tYM7sCbMpbT"
      },
      "source": [
        "class PositionalEncoding(nn.Module):\n",
        "    def __init__(self, d_model, dropout, max_len=5000):\n",
        "        super(PositionalEncoding, self).__init__()\n",
        "        self.dropout = nn.Dropout(p=dropout)\n",
        "        \n",
        "        # Compute the positional encodings once in log space.\n",
        "        pe = torch.zeros(max_len, d_model)\n",
        "        position = torch.arange(0, max_len).unsqueeze(1)\n",
        "        div_term = torch.exp(torch.arange(0, d_model, 2) *\n",
        "                             -(math.log(10000.0) / d_model))\n",
        "        pe[:, 0::2] = torch.sin(position * div_term)\n",
        "        pe[:, 1::2] = torch.cos(position * div_term)\n",
        "        pe = pe.unsqueeze(0)\n",
        "        \n",
        "        self.register_buffer('pe', pe)\n",
        "        \n",
        "    def forward(self, x):\n",
        "        x = x + torch.tensor(self.pe[:, :x.size(1)], requires_grad=False)\n",
        "        \n",
        "        return self.dropout(x)"
      ],
      "execution_count": 4,
      "outputs": []
    },
    {
      "cell_type": "code",
      "metadata": {
        "id": "eYiVjChrH_ZM"
      },
      "source": [
        "class Encoder(nn.Module):\n",
        "    def __init__(self, \n",
        "                 input_dim, \n",
        "                 hid_dim, \n",
        "                 n_layers, \n",
        "                 n_heads, \n",
        "                 pf_dim,\n",
        "                 dropout, \n",
        "                 device,\n",
        "                 max_length = 100, \n",
        "                 trainable_positional_encoding=False):\n",
        "        super().__init__()\n",
        "\n",
        "        self.device = device\n",
        "        self.trainable_positional_encoding = trainable_positional_encoding\n",
        "        \n",
        "        self.tok_embedding = nn.Embedding(input_dim, hid_dim)\n",
        "        \n",
        "        if self.trainable_positional_encoding:\n",
        "            self.pos_embedding = nn.Embedding(max_length, hid_dim)\n",
        "        else:\n",
        "            self.pos_embedding = PositionalEncoding(hid_dim, dropout)\n",
        "\n",
        "        self.layers = nn.ModuleList([EncoderLayer(hid_dim, \n",
        "                                                  n_heads, \n",
        "                                                  pf_dim,\n",
        "                                                  dropout, \n",
        "                                                  device) \n",
        "                                     for _ in range(n_layers)])\n",
        "        \n",
        "        self.dropout = nn.Dropout(dropout)\n",
        "        \n",
        "\n",
        "        self.scale = torch.sqrt(torch.FloatTensor([hid_dim])).to(device)\n",
        "        \n",
        "    def forward(self, src, src_mask):\n",
        "        \n",
        "        #src = [batch size, src len]\n",
        "        #src_mask = [batch size, 1, 1, src len]\n",
        "        \n",
        "        batch_size = src.shape[0]\n",
        "        src_len = src.shape[1]\n",
        "        \n",
        "        #pos = [batch size, src len]\n",
        "        if self.trainable_positional_encoding:\n",
        "            pos = torch.arange(0, src_len).unsqueeze(0).repeat(batch_size, 1).to(self.device)\n",
        "            src = self.dropout((self.tok_embedding(src) * self.scale) + self.pos_embedding(pos))\n",
        "        else:\n",
        "            src = self.tok_embedding(src)\n",
        "            src = self.pos_embedding(src)\n",
        "        \n",
        "        #src = [batch size, src len, hid dim]\n",
        "        \n",
        "        for layer in self.layers:\n",
        "            src = layer(src, src_mask)\n",
        "            \n",
        "        #src = [batch size, src len, hid dim]\n",
        "            \n",
        "        return src"
      ],
      "execution_count": 5,
      "outputs": []
    },
    {
      "cell_type": "code",
      "metadata": {
        "id": "QfISq9dlH_ZN"
      },
      "source": [
        "class EncoderLayer(nn.Module):\n",
        "    def __init__(self, \n",
        "                 hid_dim, \n",
        "                 n_heads, \n",
        "                 pf_dim,  \n",
        "                 dropout, \n",
        "                 device):\n",
        "        super().__init__()\n",
        "        \n",
        "        self.self_attn_layer_norm = nn.LayerNorm(hid_dim)\n",
        "        self.ff_layer_norm = nn.LayerNorm(hid_dim)\n",
        "        self.self_attention = MultiHeadAttentionLayer(hid_dim, n_heads, dropout, device)\n",
        "        self.positionwise_feedforward = PositionwiseFeedforwardLayer(hid_dim, \n",
        "                                                                     pf_dim, \n",
        "                                                                     dropout)\n",
        "        self.dropout = nn.Dropout(dropout)\n",
        "        \n",
        "    def forward(self, src, src_mask):\n",
        "        \n",
        "        #src = [batch size, src len, hid dim]\n",
        "        #src_mask = [batch size, 1, 1, src len] \n",
        "                \n",
        "        #self attention\n",
        "        _src, _ = self.self_attention(src, src, src, src_mask)\n",
        "        \n",
        "        #dropout, residual connection and layer norm\n",
        "        src = self.self_attn_layer_norm(src + self.dropout(_src))\n",
        "        \n",
        "        #src = [batch size, src len, hid dim]\n",
        "        \n",
        "        #positionwise feedforward\n",
        "        _src = self.positionwise_feedforward(src)\n",
        "        \n",
        "        #dropout, residual and layer norm\n",
        "        src = self.ff_layer_norm(src + self.dropout(_src))\n",
        "        \n",
        "        #src = [batch size, src len, hid dim]\n",
        "        \n",
        "        return src"
      ],
      "execution_count": 6,
      "outputs": []
    },
    {
      "cell_type": "code",
      "metadata": {
        "id": "tc2YrmCwH_ZO"
      },
      "source": [
        "class MultiHeadAttentionLayer(nn.Module):\n",
        "    def __init__(self, hid_dim, n_heads, dropout, device):\n",
        "        super().__init__()\n",
        "        \n",
        "        assert hid_dim % n_heads == 0\n",
        "        \n",
        "        self.hid_dim = hid_dim\n",
        "        self.n_heads = n_heads\n",
        "        self.head_dim = hid_dim // n_heads\n",
        "        \n",
        "        self.fc_q = nn.Linear(hid_dim, hid_dim)\n",
        "        self.fc_k = nn.Linear(hid_dim, hid_dim)\n",
        "        self.fc_v = nn.Linear(hid_dim, hid_dim)\n",
        "        \n",
        "        self.fc_o = nn.Linear(hid_dim, hid_dim)\n",
        "        \n",
        "        self.dropout = nn.Dropout(dropout)\n",
        "        \n",
        "        self.scale = torch.sqrt(torch.FloatTensor([self.head_dim])).to(device)\n",
        "        \n",
        "    def forward(self, query, key, value, mask = None):\n",
        "        \n",
        "        batch_size = query.shape[0]\n",
        "        \n",
        "        #query = [batch size, query len, hid dim]\n",
        "        #key = [batch size, key len, hid dim]\n",
        "        #value = [batch size, value len, hid dim]\n",
        "                \n",
        "        Q = self.fc_q(query)\n",
        "        K = self.fc_k(key)\n",
        "        V = self.fc_v(value)\n",
        "        \n",
        "        #Q = [batch size, query len, hid dim]\n",
        "        #K = [batch size, key len, hid dim]\n",
        "        #V = [batch size, value len, hid dim]\n",
        "                \n",
        "        Q = Q.view(batch_size, -1, self.n_heads, self.head_dim).permute(0, 2, 1, 3)\n",
        "        K = K.view(batch_size, -1, self.n_heads, self.head_dim).permute(0, 2, 1, 3)\n",
        "        V = V.view(batch_size, -1, self.n_heads, self.head_dim).permute(0, 2, 1, 3)\n",
        "        \n",
        "        #Q = [batch size, n heads, query len, head dim]\n",
        "        #K = [batch size, n heads, key len, head dim]\n",
        "        #V = [batch size, n heads, value len, head dim]\n",
        "        \n",
        "        energy = torch.matmul(Q, K.permute(0, 1, 3, 2)) / self.scale\n",
        "        \n",
        "        #energy = [batch size, n heads, query len, key len]\n",
        "        \n",
        "        if mask is not None:\n",
        "            # mask == True인 element를 -1e10으로 대체\n",
        "            # 여기에서는 mask가 0이면 element를 -1e10\n",
        "            energy = energy.masked_fill(mask == 0, -1e10)\n",
        "        \n",
        "        attention = torch.softmax(energy, dim = -1)\n",
        "                \n",
        "        #attention = [batch size, n heads, query len, key len]\n",
        "        \n",
        "        x = torch.matmul(self.dropout(attention), V)\n",
        "        \n",
        "        #x = [batch size, n heads, query len, head dim]\n",
        "        \n",
        "        x = x.permute(0, 2, 1, 3).contiguous()\n",
        "        \n",
        "        #x = [batch size, query len, n heads, head dim]\n",
        "        x = x.view(batch_size, -1, self.hid_dim)\n",
        "        \n",
        "        #x = [batch size, query len, hid dim]\n",
        "        \n",
        "        x = self.fc_o(x)\n",
        "        \n",
        "        #x = [batch size, query len, hid dim]\n",
        "        \n",
        "        return x, attention"
      ],
      "execution_count": 7,
      "outputs": []
    },
    {
      "cell_type": "code",
      "metadata": {
        "id": "VtYxdD_zH_ZP"
      },
      "source": [
        "class PositionwiseFeedforwardLayer(nn.Module):\n",
        "    def __init__(self, hid_dim, pf_dim, dropout):\n",
        "        super().__init__()\n",
        "        \n",
        "        self.fc_1 = nn.Linear(hid_dim, pf_dim)\n",
        "        self.fc_2 = nn.Linear(pf_dim, hid_dim)\n",
        "        \n",
        "        self.dropout = nn.Dropout(dropout)\n",
        "        \n",
        "    def forward(self, x):\n",
        "        \n",
        "        #x = [batch size, seq len, hid dim]\n",
        "        \n",
        "        x = self.dropout(torch.relu(self.fc_1(x)))\n",
        "        \n",
        "        #x = [batch size, seq len, pf dim]\n",
        "        \n",
        "        x = self.fc_2(x)\n",
        "        \n",
        "        #x = [batch size, seq len, hid dim]\n",
        "        \n",
        "        return x"
      ],
      "execution_count": 8,
      "outputs": []
    },
    {
      "cell_type": "code",
      "metadata": {
        "id": "VDf-WjW3H_ZP"
      },
      "source": [
        "class Decoder(nn.Module):\n",
        "    def __init__(self, \n",
        "                 output_dim, \n",
        "                 hid_dim, \n",
        "                 n_layers, \n",
        "                 n_heads, \n",
        "                 pf_dim, \n",
        "                 dropout, \n",
        "                 device,\n",
        "                 max_length=100, \n",
        "                 trainable_positional_encoding=False):\n",
        "        super().__init__()\n",
        "        \n",
        "        self.device = device\n",
        "        self.trainable_positional_encoding = trainable_positional_encoding\n",
        "        self.tok_embedding = nn.Embedding(output_dim, hid_dim)\n",
        "        \n",
        "        if self.trainable_positional_encoding:\n",
        "            self.pos_embedding = nn.Embedding(max_length, hid_dim)\n",
        "        else:\n",
        "            self.pos_embedding = PositionalEncoding(hid_dim, dropout)\n",
        "            \n",
        "        self.layers = nn.ModuleList([DecoderLayer(hid_dim, \n",
        "                                                  n_heads, \n",
        "                                                  pf_dim, \n",
        "                                                  dropout, \n",
        "                                                  device)\n",
        "                                     for _ in range(n_layers)])\n",
        "        \n",
        "        self.fc_out = nn.Linear(hid_dim, output_dim)\n",
        "        \n",
        "        self.dropout = nn.Dropout(dropout)\n",
        "        \n",
        "        self.scale = torch.sqrt(torch.FloatTensor([hid_dim])).to(device)\n",
        "        \n",
        "    def forward(self, trg, enc_src, trg_mask, src_mask):\n",
        "        \n",
        "        #trg = [batch size, trg len]\n",
        "        #enc_src = [batch size, src len, hid dim]\n",
        "        #trg_mask = [batch size, 1, trg len, trg len]\n",
        "        #src_mask = [batch size, 1, 1, src len]\n",
        "                \n",
        "        batch_size = trg.shape[0]\n",
        "        trg_len = trg.shape[1]\n",
        "\n",
        "        #pos = [batch size, trg len]\n",
        "        if self.trainable_positional_encoding:\n",
        "            pos = torch.arange(0, trg_len).unsqueeze(0).repeat(batch_size, 1).to(self.device)\n",
        "            trg = self.dropout((self.tok_embedding(trg) * self.scale) + self.pos_embedding(pos))\n",
        "        else:\n",
        "            trg = self.tok_embedding(trg)\n",
        "            trg = self.pos_embedding(trg)\n",
        "                \n",
        "        #trg = [batch size, trg len, hid dim]\n",
        "        \n",
        "        for layer in self.layers:\n",
        "            trg, attention = layer(trg, enc_src, trg_mask, src_mask)\n",
        "        \n",
        "        #trg = [batch size, trg len, hid dim]\n",
        "        #attention = [batch size, n heads, trg len, src len]\n",
        "        \n",
        "        output = self.fc_out(trg)\n",
        "        \n",
        "        #output = [batch size, trg len, output dim]\n",
        "            \n",
        "        return output, attention"
      ],
      "execution_count": 9,
      "outputs": []
    },
    {
      "cell_type": "code",
      "metadata": {
        "id": "-XWiQi7gH_ZQ"
      },
      "source": [
        "class DecoderLayer(nn.Module):\n",
        "    def __init__(self, \n",
        "                 hid_dim, \n",
        "                 n_heads, \n",
        "                 pf_dim, \n",
        "                 dropout, \n",
        "                 device):\n",
        "        super().__init__()\n",
        "        \n",
        "        self.self_attn_layer_norm = nn.LayerNorm(hid_dim)\n",
        "        self.enc_attn_layer_norm = nn.LayerNorm(hid_dim)\n",
        "        self.ff_layer_norm = nn.LayerNorm(hid_dim)\n",
        "        self.self_attention = MultiHeadAttentionLayer(hid_dim, n_heads, dropout, device)\n",
        "        self.encoder_attention = MultiHeadAttentionLayer(hid_dim, n_heads, dropout, device)\n",
        "        self.positionwise_feedforward = PositionwiseFeedforwardLayer(hid_dim, \n",
        "                                                                     pf_dim, \n",
        "                                                                     dropout)\n",
        "        self.dropout = nn.Dropout(dropout)\n",
        "        \n",
        "    def forward(self, trg, enc_src, trg_mask, src_mask):\n",
        "        \n",
        "        #trg = [batch size, trg len, hid dim]\n",
        "        #enc_src = [batch size, src len, hid dim]\n",
        "        #trg_mask = [batch size, 1, trg len, trg len]\n",
        "        #src_mask = [batch size, 1, 1, src len]\n",
        "        \n",
        "        #self attention\n",
        "        _trg, _ = self.self_attention(trg, trg, trg, trg_mask)\n",
        "        \n",
        "        #dropout, residual connection and layer norm\n",
        "        trg = self.self_attn_layer_norm(trg + self.dropout(_trg))\n",
        "            \n",
        "        #trg = [batch size, trg len, hid dim]\n",
        "            \n",
        "        #encoder attention\n",
        "        # query가 trg 로 바뀌었다는 점 주목\n",
        "        _trg, attention = self.encoder_attention(trg, enc_src, enc_src, src_mask)\n",
        "        \n",
        "        #dropout, residual connection and layer norm\n",
        "        # 이렇게 구현하면 매 레이어에서 encoding block의 결과를 가져오는 것으로 보임.\n",
        "        trg = self.enc_attn_layer_norm(trg + self.dropout(_trg))\n",
        "                    \n",
        "        #trg = [batch size, trg len, hid dim]\n",
        "        \n",
        "        #positionwise feedforward\n",
        "        _trg = self.positionwise_feedforward(trg)\n",
        "        \n",
        "        #dropout, residual and layer norm\n",
        "        trg = self.ff_layer_norm(trg + self.dropout(_trg))\n",
        "        \n",
        "        #trg = [batch size, trg len, hid dim]\n",
        "        #attention = [batch size, n heads, trg len, src len]\n",
        "        \n",
        "        return trg, attention"
      ],
      "execution_count": 10,
      "outputs": []
    },
    {
      "cell_type": "code",
      "metadata": {
        "id": "u8M3Ng-pH_ZQ"
      },
      "source": [
        "class Seq2Seq(nn.Module):\n",
        "    def __init__(self, \n",
        "                 encoder, \n",
        "                 decoder, \n",
        "                 src_pad_idx, \n",
        "                 trg_pad_idx, \n",
        "                 device):\n",
        "        super().__init__()\n",
        "        \n",
        "        self.encoder = encoder\n",
        "        self.decoder = decoder\n",
        "        self.src_pad_idx = src_pad_idx\n",
        "        self.trg_pad_idx = trg_pad_idx\n",
        "        self.device = device\n",
        "        \n",
        "    def make_src_mask(self, src):\n",
        "        \n",
        "        #src = [batch size, src len]\n",
        "        \n",
        "        src_mask = (src != self.src_pad_idx).unsqueeze(1).unsqueeze(2)\n",
        "\n",
        "        #src_mask = [batch size, 1, 1, src len]\n",
        "\n",
        "        return src_mask\n",
        "    \n",
        "    def make_trg_mask(self, trg):\n",
        "        \n",
        "        #trg = [batch size, trg len]\n",
        "        \n",
        "        trg_pad_mask = (trg != self.trg_pad_idx).unsqueeze(1).unsqueeze(2)\n",
        "        \n",
        "        #trg_pad_mask = [batch size, 1, 1, trg len]\n",
        "        \n",
        "        trg_len = trg.shape[1]\n",
        "\n",
        "        # lower triangular shape 반환\n",
        "        # 즉 하나씩 밀어가면서 mask를 제거하는 효과\n",
        "        trg_sub_mask = torch.tril(torch.ones((trg_len, trg_len), device = self.device)).bool()\n",
        "        \n",
        "        #trg_sub_mask = [trg len, trg len]\n",
        "        \n",
        "        # bit 연산 (Binary AND)\n",
        "        trg_mask = trg_pad_mask & trg_sub_mask\n",
        "        \n",
        "        #trg_mask = [batch size, 1, trg len, trg len]\n",
        "        \n",
        "        return trg_mask\n",
        "\n",
        "    def forward(self, src, trg):\n",
        "        \n",
        "        #src = [batch size, src len]\n",
        "        #trg = [batch size, trg len]\n",
        "                \n",
        "        src_mask = self.make_src_mask(src)\n",
        "        trg_mask = self.make_trg_mask(trg)\n",
        "        \n",
        "        #src_mask = [batch size, 1, 1, src len]\n",
        "        #trg_mask = [batch size, 1, trg len, trg len]\n",
        "        \n",
        "        enc_src = self.encoder(src, src_mask)\n",
        "        \n",
        "        #enc_src = [batch size, src len, hid dim]\n",
        "                \n",
        "        output, attention = self.decoder(trg, enc_src, trg_mask, src_mask)\n",
        "        \n",
        "        #output = [batch size, trg len, output dim]\n",
        "        #attention = [batch size, n heads, trg len, src len]\n",
        "        \n",
        "        return output, attention"
      ],
      "execution_count": 11,
      "outputs": []
    },
    {
      "cell_type": "code",
      "metadata": {
        "id": "zzF2iCqJQJdL"
      },
      "source": [
        "# https://stackoverflow.com/questions/55681502/label-smoothing-in-pytorch\n",
        "\n",
        "class LabelSmoothingCrossEntropy(nn.Module):\n",
        "    def __init__(self, epsilon: float = 0.1, reduction='mean', ignore_index=None):\n",
        "        super().__init__()\n",
        "        self.epsilon = epsilon\n",
        "        self.reduction = reduction\n",
        "        self.ignore_index = ignore_index\n",
        "\n",
        "    @staticmethod\n",
        "    def linear_combination(x, y, epsilon):\n",
        "        return epsilon * x + (1 - epsilon) * y\n",
        "\n",
        "    @staticmethod\n",
        "    def reduce_loss(loss, reduction='mean'):\n",
        "        return loss.mean() if reduction == 'mean' else loss.sum() if reduction == 'sum' else loss\n",
        "\n",
        "\n",
        "    def forward(self, preds, target):\n",
        "        n = preds.size()[-1]\n",
        "        log_preds = F.log_softmax(preds, dim=-1)\n",
        "        loss = LabelSmoothingCrossEntropy.reduce_loss(-log_preds.sum(dim=-1), self.reduction)\n",
        "        if self.ignore_index:\n",
        "            nll = F.nll_loss(log_preds, target, reduction=self.reduction, ignore_index=self.ignore_index)\n",
        "        else:\n",
        "            nll = F.nll_loss(log_preds, target, reduction=self.reduction)\n",
        "            \n",
        "        return LabelSmoothingCrossEntropy.linear_combination(loss / n, nll, self.epsilon)"
      ],
      "execution_count": 12,
      "outputs": []
    },
    {
      "cell_type": "code",
      "metadata": {
        "id": "OLdDLNK-Jiew"
      },
      "source": [
        "# https://github.com/ildoonet/pytorch-gradual-warmup-lr/blob/6b5e8953a80aef5b324104dc0c2e9b8c34d622bd/warmup_scheduler/scheduler.py#L5\n",
        "\n",
        "class GradualWarmupScheduler(_LRScheduler):\n",
        "    def __init__(self, optimizer, multiplier, total_epoch, after_scheduler=None):\n",
        "        self.multiplier = multiplier\n",
        "        self.total_epoch = total_epoch\n",
        "        self.after_scheduler = after_scheduler\n",
        "        self.finished = False\n",
        "\n",
        "        super(GradualWarmupScheduler, self).__init__(optimizer)\n",
        "\n",
        "    def get_lr(self):\n",
        "        # warm up 종료 판단\n",
        "        if self.last_epoch > self.total_epoch:\n",
        "            # 뒤에 다른 lr scheduler 가 있느냐?\n",
        "            if self.after_scheduler:\n",
        "                # after lr scheduler의 base lr 설정하고 함수 종료\n",
        "                if not self.finished:\n",
        "                    self.after_scheduler.base_lrs = [base_lr * self.multiplier for base_lr in self.base_lrs]\n",
        "                    self.finished = True\n",
        "                return self.after_scheduler.get_last_lr()\n",
        "            # 다른 lr scheduler가 없기 때문에 base lr 에 multiplier를 곱해서 리턴\n",
        "            return [base_lr * self.multiplier for base_lr in self.base_lrs]\n",
        "\n",
        "        if self.multiplier == 1.0:\n",
        "            return [base_lr * (float(self.last_epoch) / self.total_epoch) for base_lr in self.base_lrs]\n",
        "        else:\n",
        "            return [base_lr * ((self.multiplier - 1.) * self.last_epoch / self.total_epoch + 1.) for base_lr in self.base_lrs]\n",
        "\n",
        "    # lr scheduler 중 reduce lr on plateau는 함수 epoch 에 마지막에 호출되는 반면 다른 lr scheduler는 epoch에 시작에 호출된다고 함\n",
        "    # 이 때문에 reduce lr on plateau를 다른 함수로 분기시킴\n",
        "    def step_ReduceLROnPlateau(self, metrics, epoch=None):\n",
        "        if epoch is None:\n",
        "            epoch = self.last_epoch + 1\n",
        "        self.last_epoch = epoch if epoch != 0 else 1  # ReduceLROnPlateau is called at the end of epoch, whereas others are called at beginning\n",
        "\n",
        "        print(f\"last epoch{self.last_epoch}\")\n",
        "\n",
        "        if self.last_epoch <= self.total_epoch:\n",
        "            warmup_lr = [base_lr * ((self.multiplier - 1.) * self.last_epoch / self.total_epoch + 1.) for base_lr in self.base_lrs]\n",
        "            for param_group, lr in zip(self.optimizer.param_groups, warmup_lr):\n",
        "                param_group['lr'] = lr\n",
        "        else:\n",
        "            if epoch is None:\n",
        "                self.after_scheduler.step(metrics, None)\n",
        "            else:\n",
        "                self.after_scheduler.step(metrics, epoch - self.total_epoch)\n",
        "\n",
        "    def step(self, epoch=None, metrics=None):\n",
        "        if type(self.after_scheduler) != ReduceLROnPlateau:\n",
        "            if self.finished and self.after_scheduler:\n",
        "                if epoch is None:\n",
        "                    self.after_scheduler.step(None)\n",
        "                else:\n",
        "                    self.after_scheduler.step(epoch - self.total_epoch)\n",
        "                self._last_lr = self.after_scheduler.get_last_lr()\n",
        "            else:\n",
        "                return super(GradualWarmupScheduler, self).step(epoch)\n",
        "        else:\n",
        "            self.step_ReduceLROnPlateau(metrics, epoch)"
      ],
      "execution_count": 13,
      "outputs": []
    },
    {
      "cell_type": "code",
      "metadata": {
        "id": "h-fva5GNH_ZR"
      },
      "source": [
        "INPUT_DIM = len(SRC.vocab)\n",
        "OUTPUT_DIM = len(TRG.vocab)\n",
        "\n",
        "SRC_PAD_IDX = SRC.vocab.stoi[SRC.pad_token]\n",
        "TRG_PAD_IDX = TRG.vocab.stoi[TRG.pad_token]\n",
        "\n",
        "N_EPOCHS = 100\n",
        "CLIP = 1\n",
        "\n",
        "HID_DIM = 256\n",
        "ENC_LAYERS = 3 \n",
        "DEC_LAYERS = 3\n",
        "ENC_HEADS = 8\n",
        "DEC_HEADS = 8\n",
        "ENC_PF_DIM = 512\n",
        "DEC_PF_DIM = 512\n",
        "ENC_DROPOUT = 0.1\n",
        "DEC_DROPOUT = 0.1\n",
        "\n",
        "WARMUP_MODE     = \"STEP\" # \"STEP\" / \"EPOCH\"\n",
        "WARMUP_STEPS    = 4000\n",
        "WARMUP_EPOCHS   = 10\n",
        "\n",
        "if WARMUP_MODE == \"STEP\":\n",
        "    LEARNING_RATE = 1\n",
        "else:\n",
        "    LEARNING_RATE   = 0.0005\n",
        "PATIENCE_THRESHOLD = 10\n",
        "LABEL_SMOOTHING = True\n",
        "TRAINABLE_POSITIONAL_ENCODING = False\n",
        "\n",
        "enc = Encoder(INPUT_DIM, \n",
        "              HID_DIM, \n",
        "              ENC_LAYERS, \n",
        "              ENC_HEADS, \n",
        "              ENC_PF_DIM, \n",
        "              ENC_DROPOUT, \n",
        "              device, \n",
        "              trainable_positional_encoding=TRAINABLE_POSITIONAL_ENCODING)\n",
        "\n",
        "dec = Decoder(OUTPUT_DIM, \n",
        "              HID_DIM, \n",
        "              DEC_LAYERS, \n",
        "              DEC_HEADS, \n",
        "              DEC_PF_DIM, \n",
        "              DEC_DROPOUT, \n",
        "              device, \n",
        "              trainable_positional_encoding=TRAINABLE_POSITIONAL_ENCODING)\n",
        "\n",
        "model = Seq2Seq(enc, dec, SRC_PAD_IDX, TRG_PAD_IDX, device).to(device)\n",
        "optimizer = torch.optim.Adam(model.parameters(), lr=LEARNING_RATE)\n",
        "\n",
        "if WARMUP_MODE == \"EPOCH\":\n",
        "    scheduler_steplr = StepLR(optimizer, step_size=WARMUP_EPOCHS, gamma=0.5)\n",
        "    scheduler_warmup = GradualWarmupScheduler(optimizer, multiplier=1, total_epoch=10, after_scheduler=scheduler_steplr)\n",
        "elif WARMUP_MODE == \"STEP\":\n",
        "    scheduler_warmup = LambdaLR(optimizer, \n",
        "                                lambda step_num: HID_DIM ** (-0.5) * min((step_num + 1) ** (-0.5), (step_num + 1) * WARMUP_STEPS ** (-1.5)))\n",
        "\n",
        "if LABEL_SMOOTHING:\n",
        "    criterion = LabelSmoothingCrossEntropy(ignore_index=TRG_PAD_IDX)\n",
        "else:\n",
        "    criterion = nn.CrossEntropyoss(ignore_index = TRG_PAD_IDX)"
      ],
      "execution_count": 14,
      "outputs": []
    },
    {
      "cell_type": "code",
      "metadata": {
        "colab": {
          "base_uri": "https://localhost:8080/"
        },
        "id": "uTR8AUAkH_ZR",
        "outputId": "a64c3552-0d02-4456-afac-caf1514a63e5"
      },
      "source": [
        "def count_parameters(model):\n",
        "    return sum(p.numel() for p in model.parameters() if p.requires_grad)\n",
        "\n",
        "def initialize_weights(m):\n",
        "    if hasattr(m, 'weight') and m.weight.dim() > 1:\n",
        "\n",
        "        nn.init.xavier_uniform_(m.weight.data)\n",
        "\n",
        "def epoch_time(start_time, end_time):\n",
        "    elapsed_time = end_time - start_time\n",
        "    elapsed_mins = int(elapsed_time / 60)\n",
        "    elapsed_secs = int(elapsed_time - (elapsed_mins * 60))\n",
        "    return elapsed_mins, elapsed_secs\n",
        "\n",
        "model.apply(initialize_weights);\n",
        "print(f'The model has {count_parameters(model):,} trainable parameters')"
      ],
      "execution_count": 15,
      "outputs": [
        {
          "output_type": "stream",
          "text": [
            "The model has 8,633,093 trainable parameters\n"
          ],
          "name": "stdout"
        }
      ]
    },
    {
      "cell_type": "code",
      "metadata": {
        "id": "IXv2GFW9H_ZT"
      },
      "source": [
        "def train(model, iterator, optimizer, criterion, clip, scheduler=None):\n",
        "    \n",
        "    model.train()\n",
        "    \n",
        "    epoch_loss = 0\n",
        "    \n",
        "    for i, batch in enumerate(iterator):\n",
        "\n",
        "        src = batch.src\n",
        "        trg = batch.trg\n",
        "        \n",
        "        optimizer.zero_grad()\n",
        "\n",
        "        output, _ = model(src, trg[:,:-1])\n",
        "                \n",
        "        #output = [batch size, trg len - 1, output dim]\n",
        "        #trg = [batch size, trg len]\n",
        "            \n",
        "        output_dim = output.shape[-1]\n",
        "            \n",
        "        output = output.contiguous().view(-1, output_dim)\n",
        "        trg = trg[:,1:].contiguous().view(-1)\n",
        "                \n",
        "        #output = [batch size * trg len - 1, output dim]\n",
        "        #trg = [batch size * trg len - 1]\n",
        "            \n",
        "        loss = criterion(output, trg)\n",
        "        \n",
        "        loss.backward()\n",
        "        \n",
        "        torch.nn.utils.clip_grad_norm_(model.parameters(), clip)\n",
        "        \n",
        "        optimizer.step()\n",
        "        if scheduler is not None and WARMUP_MODE == \"STEP\":\n",
        "            scheduler.step()\n",
        "        \n",
        "        epoch_loss += loss.item()\n",
        "        \n",
        "    return epoch_loss / len(iterator)"
      ],
      "execution_count": 16,
      "outputs": []
    },
    {
      "cell_type": "code",
      "metadata": {
        "id": "QVg3nMwFH_ZT"
      },
      "source": [
        "def evaluate(model, iterator, criterion):\n",
        "    \n",
        "    model.eval()\n",
        "    \n",
        "    epoch_loss = 0\n",
        "    \n",
        "    with torch.no_grad():\n",
        "    \n",
        "        for i, batch in enumerate(iterator):\n",
        "\n",
        "            src = batch.src\n",
        "            trg = batch.trg\n",
        "\n",
        "            output, _ = model(src, trg[:,:-1])\n",
        "            \n",
        "            #output = [batch size, trg len - 1, output dim]\n",
        "            #trg = [batch size, trg len]\n",
        "            \n",
        "            output_dim = output.shape[-1]\n",
        "            \n",
        "            output = output.contiguous().view(-1, output_dim)\n",
        "            trg = trg[:,1:].contiguous().view(-1)\n",
        "            \n",
        "            #output = [batch size * trg len - 1, output dim]\n",
        "            #trg = [batch size * trg len - 1]\n",
        "            \n",
        "            loss = criterion(output, trg)\n",
        "\n",
        "            epoch_loss += loss.item()\n",
        "        \n",
        "    return epoch_loss / len(iterator)"
      ],
      "execution_count": 17,
      "outputs": []
    },
    {
      "cell_type": "code",
      "metadata": {
        "colab": {
          "base_uri": "https://localhost:8080/"
        },
        "id": "KJU_EbCVH_ZU",
        "outputId": "381a832a-4e2e-4c6e-d47f-59da59ad2568"
      },
      "source": [
        "import warnings\n",
        "\n",
        "warnings.filterwarnings(action='ignore')\n",
        "\n",
        "best_valid_loss = float('inf')\n",
        "patience_counter = 0\n",
        "\n",
        "optimizer.zero_grad()\n",
        "optimizer.step()\n",
        "\n",
        "for epoch in range(N_EPOCHS):\n",
        "    start_time = time.time()\n",
        "\n",
        "    if WARMUP_MODE == \"EPOCH\":\n",
        "        scheduler_warmup.step(epoch)\n",
        "        train_loss = train(model, train_iterator, optimizer, criterion, CLIP)\n",
        "    else:\n",
        "        train_loss = train(model, train_iterator, optimizer, criterion, CLIP, scheduler_warmup)\n",
        "\n",
        "    valid_loss = evaluate(model, valid_iterator, criterion)\n",
        "    \n",
        "    end_time = time.time()\n",
        "    \n",
        "    epoch_mins, epoch_secs = epoch_time(start_time, end_time)\n",
        "    \n",
        "    if valid_loss < best_valid_loss:\n",
        "        patience_counter = 0\n",
        "        best_valid_loss = valid_loss\n",
        "        torch.save(model.state_dict(), 'tut6-model.pt')\n",
        "    else:\n",
        "        patience_counter += 1\n",
        "    \n",
        "    current_lr = scheduler_warmup.get_lr()[0]\n",
        "    \n",
        "    print(f'Epoch: {epoch+1:02} | Time: {epoch_mins}m {epoch_secs}s | Learning Rate: {current_lr}')\n",
        "    print(f'\\tTrain Loss: {train_loss:.3f} | Train PPL: {math.exp(train_loss):7.3f}')\n",
        "    print(f'\\t Val. Loss: {valid_loss:.3f} |  Val. PPL: {math.exp(valid_loss):7.3f}')\n",
        "\n",
        "    if patience_counter >= PATIENCE_THRESHOLD:\n",
        "        model.load_state_dict(torch.load('tut6-model.pt'))\n",
        "        break"
      ],
      "execution_count": 19,
      "outputs": [
        {
          "output_type": "stream",
          "text": [
            "Epoch: 01 | Time: 0m 19s | Learning Rate: 0.00011240908870129787\n",
            "\tTrain Loss: 5.732 | Train PPL: 308.525\n",
            "\t Val. Loss: 5.281 |  Val. PPL: 196.620\n",
            "Epoch: 02 | Time: 0m 19s | Learning Rate: 0.00016849010658084648\n",
            "\tTrain Loss: 5.230 | Train PPL: 186.790\n",
            "\t Val. Loss: 4.956 |  Val. PPL: 142.034\n",
            "Epoch: 03 | Time: 0m 19s | Learning Rate: 0.00022457112446039508\n",
            "\tTrain Loss: 4.834 | Train PPL: 125.698\n",
            "\t Val. Loss: 4.555 |  Val. PPL:  95.141\n",
            "Epoch: 04 | Time: 0m 19s | Learning Rate: 0.0002806521423399437\n",
            "\tTrain Loss: 4.535 | Train PPL:  93.228\n",
            "\t Val. Loss: 4.320 |  Val. PPL:  75.186\n",
            "Epoch: 05 | Time: 0m 19s | Learning Rate: 0.00033673316021949227\n",
            "\tTrain Loss: 4.273 | Train PPL:  71.753\n",
            "\t Val. Loss: 4.036 |  Val. PPL:  56.572\n",
            "Epoch: 06 | Time: 0m 19s | Learning Rate: 0.0003928141780990409\n",
            "\tTrain Loss: 3.968 | Train PPL:  52.887\n",
            "\t Val. Loss: 3.692 |  Val. PPL:  40.129\n",
            "Epoch: 07 | Time: 0m 19s | Learning Rate: 0.0004488951959785895\n",
            "\tTrain Loss: 3.660 | Train PPL:  38.844\n",
            "\t Val. Loss: 3.417 |  Val. PPL:  30.472\n",
            "Epoch: 08 | Time: 0m 19s | Learning Rate: 0.0005049762138581381\n",
            "\tTrain Loss: 3.371 | Train PPL:  29.104\n",
            "\t Val. Loss: 3.144 |  Val. PPL:  23.196\n",
            "Epoch: 09 | Time: 0m 19s | Learning Rate: 0.0005610572317376867\n",
            "\tTrain Loss: 3.114 | Train PPL:  22.518\n",
            "\t Val. Loss: 2.955 |  Val. PPL:  19.210\n",
            "Epoch: 10 | Time: 0m 19s | Learning Rate: 0.0006171382496172353\n",
            "\tTrain Loss: 2.908 | Train PPL:  18.316\n",
            "\t Val. Loss: 2.830 |  Val. PPL:  16.948\n",
            "Epoch: 11 | Time: 0m 19s | Learning Rate: 0.0006732192674967839\n",
            "\tTrain Loss: 2.736 | Train PPL:  15.422\n",
            "\t Val. Loss: 2.705 |  Val. PPL:  14.951\n",
            "Epoch: 12 | Time: 0m 19s | Learning Rate: 0.0007293002853763325\n",
            "\tTrain Loss: 2.599 | Train PPL:  13.455\n",
            "\t Val. Loss: 2.626 |  Val. PPL:  13.818\n",
            "Epoch: 13 | Time: 0m 19s | Learning Rate: 0.0007853813032558812\n",
            "\tTrain Loss: 2.487 | Train PPL:  12.021\n",
            "\t Val. Loss: 2.548 |  Val. PPL:  12.780\n",
            "Epoch: 14 | Time: 0m 19s | Learning Rate: 0.0008414623211354297\n",
            "\tTrain Loss: 2.395 | Train PPL:  10.971\n",
            "\t Val. Loss: 2.516 |  Val. PPL:  12.380\n",
            "Epoch: 15 | Time: 0m 19s | Learning Rate: 0.0008975433390149783\n",
            "\tTrain Loss: 2.321 | Train PPL:  10.188\n",
            "\t Val. Loss: 2.491 |  Val. PPL:  12.071\n",
            "Epoch: 16 | Time: 0m 19s | Learning Rate: 0.000953624356894527\n",
            "\tTrain Loss: 2.256 | Train PPL:   9.549\n",
            "\t Val. Loss: 2.481 |  Val. PPL:  11.950\n",
            "Epoch: 17 | Time: 0m 19s | Learning Rate: 0.0009776371549073042\n",
            "\tTrain Loss: 2.202 | Train PPL:   9.043\n",
            "\t Val. Loss: 2.435 |  Val. PPL:  11.418\n",
            "Epoch: 18 | Time: 0m 19s | Learning Rate: 0.000951568258789582\n",
            "\tTrain Loss: 2.135 | Train PPL:   8.456\n",
            "\t Val. Loss: 2.418 |  Val. PPL:  11.225\n",
            "Epoch: 19 | Time: 0m 19s | Learning Rate: 0.000927479387185171\n",
            "\tTrain Loss: 2.074 | Train PPL:   7.958\n",
            "\t Val. Loss: 2.387 |  Val. PPL:  10.885\n",
            "Epoch: 20 | Time: 0m 19s | Learning Rate: 0.0009051319474429567\n",
            "\tTrain Loss: 2.020 | Train PPL:   7.536\n",
            "\t Val. Loss: 2.369 |  Val. PPL:  10.686\n",
            "Epoch: 21 | Time: 0m 19s | Learning Rate: 0.0008843257499541852\n",
            "\tTrain Loss: 1.971 | Train PPL:   7.178\n",
            "\t Val. Loss: 2.359 |  Val. PPL:  10.576\n",
            "Epoch: 22 | Time: 0m 19s | Learning Rate: 0.0008648914096677358\n",
            "\tTrain Loss: 1.934 | Train PPL:   6.916\n",
            "\t Val. Loss: 2.350 |  Val. PPL:  10.487\n",
            "Epoch: 23 | Time: 0m 19s | Learning Rate: 0.0008466845078895475\n",
            "\tTrain Loss: 1.897 | Train PPL:   6.666\n",
            "\t Val. Loss: 2.330 |  Val. PPL:  10.274\n",
            "Epoch: 24 | Time: 0m 19s | Learning Rate: 0.000829581051877967\n",
            "\tTrain Loss: 1.867 | Train PPL:   6.468\n",
            "\t Val. Loss: 2.332 |  Val. PPL:  10.301\n",
            "Epoch: 25 | Time: 0m 19s | Learning Rate: 0.0008134739045141078\n",
            "\tTrain Loss: 1.838 | Train PPL:   6.285\n",
            "\t Val. Loss: 2.328 |  Val. PPL:  10.262\n",
            "Epoch: 26 | Time: 0m 19s | Learning Rate: 0.0007982699482489145\n",
            "\tTrain Loss: 1.815 | Train PPL:   6.138\n",
            "\t Val. Loss: 2.326 |  Val. PPL:  10.240\n",
            "Epoch: 27 | Time: 0m 19s | Learning Rate: 0.0007838878112819588\n",
            "\tTrain Loss: 1.793 | Train PPL:   6.008\n",
            "\t Val. Loss: 2.327 |  Val. PPL:  10.252\n",
            "Epoch: 28 | Time: 0m 19s | Learning Rate: 0.0007702560288236935\n",
            "\tTrain Loss: 1.769 | Train PPL:   5.867\n",
            "\t Val. Loss: 2.324 |  Val. PPL:  10.212\n",
            "Epoch: 29 | Time: 0m 19s | Learning Rate: 0.0007573115443571169\n",
            "\tTrain Loss: 1.752 | Train PPL:   5.765\n",
            "\t Val. Loss: 2.333 |  Val. PPL:  10.305\n",
            "Epoch: 30 | Time: 0m 19s | Learning Rate: 0.0007449984790126579\n",
            "\tTrain Loss: 1.733 | Train PPL:   5.656\n",
            "\t Val. Loss: 2.321 |  Val. PPL:  10.182\n",
            "Epoch: 31 | Time: 0m 19s | Learning Rate: 0.0007332671141555415\n",
            "\tTrain Loss: 1.714 | Train PPL:   5.552\n",
            "\t Val. Loss: 2.321 |  Val. PPL:  10.187\n",
            "Epoch: 32 | Time: 0m 19s | Learning Rate: 0.000722073044860598\n",
            "\tTrain Loss: 1.698 | Train PPL:   5.462\n",
            "\t Val. Loss: 2.317 |  Val. PPL:  10.145\n",
            "Epoch: 33 | Time: 0m 19s | Learning Rate: 0.0007113764713571276\n",
            "\tTrain Loss: 1.683 | Train PPL:   5.382\n",
            "\t Val. Loss: 2.315 |  Val. PPL:  10.126\n",
            "Epoch: 34 | Time: 0m 19s | Learning Rate: 0.0007011416026323481\n",
            "\tTrain Loss: 1.667 | Train PPL:   5.295\n",
            "\t Val. Loss: 2.333 |  Val. PPL:  10.311\n",
            "Epoch: 35 | Time: 0m 19s | Learning Rate: 0.0006913361517979669\n",
            "\tTrain Loss: 1.656 | Train PPL:   5.237\n",
            "\t Val. Loss: 2.321 |  Val. PPL:  10.189\n",
            "Epoch: 36 | Time: 0m 19s | Learning Rate: 0.0006819309069874762\n",
            "\tTrain Loss: 1.642 | Train PPL:   5.166\n",
            "\t Val. Loss: 2.331 |  Val. PPL:  10.290\n",
            "Epoch: 37 | Time: 0m 19s | Learning Rate: 0.0006728993647772703\n",
            "\tTrain Loss: 1.629 | Train PPL:   5.097\n",
            "\t Val. Loss: 2.319 |  Val. PPL:  10.164\n",
            "Epoch: 38 | Time: 0m 19s | Learning Rate: 0.0006642174156425199\n",
            "\tTrain Loss: 1.618 | Train PPL:   5.041\n",
            "\t Val. Loss: 2.340 |  Val. PPL:  10.384\n",
            "Epoch: 39 | Time: 0m 19s | Learning Rate: 0.0006558630729380819\n",
            "\tTrain Loss: 1.606 | Train PPL:   4.984\n",
            "\t Val. Loss: 2.331 |  Val. PPL:  10.289\n",
            "Epoch: 40 | Time: 0m 19s | Learning Rate: 0.0006478162384611268\n",
            "\tTrain Loss: 1.594 | Train PPL:   4.925\n",
            "\t Val. Loss: 2.332 |  Val. PPL:  10.298\n",
            "Epoch: 41 | Time: 0m 19s | Learning Rate: 0.0006400584988996193\n",
            "\tTrain Loss: 1.583 | Train PPL:   4.872\n",
            "\t Val. Loss: 2.345 |  Val. PPL:  10.437\n",
            "Epoch: 42 | Time: 0m 19s | Learning Rate: 0.0006325729484701686\n",
            "\tTrain Loss: 1.573 | Train PPL:   4.823\n",
            "\t Val. Loss: 2.336 |  Val. PPL:  10.344\n",
            "Epoch: 43 | Time: 0m 19s | Learning Rate: 0.0006253440338539614\n",
            "\tTrain Loss: 1.563 | Train PPL:   4.774\n",
            "\t Val. Loss: 2.334 |  Val. PPL:  10.319\n"
          ],
          "name": "stdout"
        }
      ]
    },
    {
      "cell_type": "code",
      "metadata": {
        "colab": {
          "base_uri": "https://localhost:8080/"
        },
        "id": "elPpIkK8H_ZU",
        "outputId": "e787612f-bef6-453a-d951-2416543ea99c"
      },
      "source": [
        "test_loss = evaluate(model, test_iterator, criterion)\n",
        "\n",
        "print(f'| Test Loss: {test_loss:.3f} | Test PPL: {math.exp(test_loss):7.3f} |')"
      ],
      "execution_count": 20,
      "outputs": [
        {
          "output_type": "stream",
          "text": [
            "| Test Loss: 2.269 | Test PPL:   9.672 |\n"
          ],
          "name": "stdout"
        }
      ]
    },
    {
      "cell_type": "code",
      "metadata": {
        "id": "0ZeDgwIoH_ZV"
      },
      "source": [
        "def translate_sentence(sentence, src_field, trg_field, model, device, max_len = 50):\n",
        "    \n",
        "    model.eval()\n",
        "        \n",
        "    if isinstance(sentence, str):\n",
        "        nlp = spacy.load('fr_core_news_sm')\n",
        "        tokens = [token.text.lower() for token in nlp(sentence)]\n",
        "    else:\n",
        "        tokens = [token.lower() for token in sentence]\n",
        "\n",
        "    tokens = [src_field.init_token] + tokens + [src_field.eos_token]\n",
        "        \n",
        "    src_indexes = [src_field.vocab.stoi[token] for token in tokens]\n",
        "\n",
        "    src_tensor = torch.LongTensor(src_indexes).unsqueeze(0).to(device)\n",
        "    \n",
        "    src_mask = model.make_src_mask(src_tensor)\n",
        "    \n",
        "    with torch.no_grad():\n",
        "        enc_src = model.encoder(src_tensor, src_mask)\n",
        "\n",
        "    trg_indexes = [trg_field.vocab.stoi[trg_field.init_token]]\n",
        "\n",
        "    for i in range(max_len):\n",
        "\n",
        "        trg_tensor = torch.LongTensor(trg_indexes).unsqueeze(0).to(device)\n",
        "\n",
        "        trg_mask = model.make_trg_mask(trg_tensor)\n",
        "        \n",
        "        with torch.no_grad():\n",
        "            output, attention = model.decoder(trg_tensor, enc_src, trg_mask, src_mask)\n",
        "        \n",
        "        pred_token = output.argmax(2)[:,-1].item()\n",
        "        \n",
        "        trg_indexes.append(pred_token)\n",
        "\n",
        "        if pred_token == trg_field.vocab.stoi[trg_field.eos_token]:\n",
        "            break\n",
        "    \n",
        "    trg_tokens = [trg_field.vocab.itos[i] for i in trg_indexes]\n",
        "    \n",
        "    return trg_tokens[1:], attention"
      ],
      "execution_count": 21,
      "outputs": []
    },
    {
      "cell_type": "code",
      "metadata": {
        "id": "uyDRLpNZH_ZV"
      },
      "source": [
        "def display_attention(sentence, translation, attention, n_heads = 8, n_rows = 4, n_cols = 2):\n",
        "    \n",
        "    assert n_rows * n_cols == n_heads\n",
        "    \n",
        "    fig = plt.figure(figsize=(15,25))\n",
        "    \n",
        "    for i in range(n_heads):\n",
        "        \n",
        "        ax = fig.add_subplot(n_rows, n_cols, i+1)\n",
        "        \n",
        "        _attention = attention.squeeze(0)[i].cpu().detach().numpy()\n",
        "\n",
        "        cax = ax.matshow(_attention, cmap='bone')\n",
        "\n",
        "        ax.tick_params(labelsize=12)\n",
        "        ax.set_xticklabels(['']+['<sos>']+[t.lower() for t in sentence]+['<eos>'], \n",
        "                           rotation=45)\n",
        "        ax.set_yticklabels(['']+translation)\n",
        "\n",
        "        ax.xaxis.set_major_locator(ticker.MultipleLocator(1))\n",
        "        ax.yaxis.set_major_locator(ticker.MultipleLocator(1))\n",
        "\n",
        "    plt.show()\n",
        "    plt.close()"
      ],
      "execution_count": 22,
      "outputs": []
    },
    {
      "cell_type": "code",
      "metadata": {
        "colab": {
          "base_uri": "https://localhost:8080/"
        },
        "id": "rh3yL4-BH_ZV",
        "outputId": "528176d5-6abf-4746-e00f-25c486042eda"
      },
      "source": [
        "example_idx = 8\n",
        "\n",
        "src = vars(train_data.examples[example_idx])['src']\n",
        "trg = vars(train_data.examples[example_idx])['trg']\n",
        "\n",
        "print(f'src = {src}')\n",
        "print(f'trg = {trg}')"
      ],
      "execution_count": 23,
      "outputs": [
        {
          "output_type": "stream",
          "text": [
            "src = ['une', 'femme', 'avec', 'un', 'gros', 'sac', 'passe', 'par', 'une', 'porte', '.']\n",
            "trg = ['a', 'woman', 'with', 'a', 'large', 'purse', 'is', 'walking', 'by', 'a', 'gate', '.']\n"
          ],
          "name": "stdout"
        }
      ]
    },
    {
      "cell_type": "code",
      "metadata": {
        "colab": {
          "base_uri": "https://localhost:8080/"
        },
        "id": "47GMLcFAH_ZW",
        "outputId": "81745c45-1635-4d67-9d59-c68812f96b75"
      },
      "source": [
        "translation, attention = translate_sentence(src, SRC, TRG, model, device)\n",
        "\n",
        "print(f'predicted trg = {translation}')"
      ],
      "execution_count": 24,
      "outputs": [
        {
          "output_type": "stream",
          "text": [
            "predicted trg = ['a', 'woman', 'with', 'a', 'large', 'bag', 'is', 'walking', 'by', 'a', 'door', '.', '<eos>']\n"
          ],
          "name": "stdout"
        }
      ]
    },
    {
      "cell_type": "code",
      "metadata": {
        "colab": {
          "base_uri": "https://localhost:8080/",
          "height": 1000
        },
        "id": "z1zh3llpH_ZW",
        "outputId": "21c41332-2bf3-4a6f-fb14-f90fb8eb099c"
      },
      "source": [
        "display_attention(src, translation, attention)"
      ],
      "execution_count": 25,
      "outputs": [
        {
          "output_type": "display_data",
          "data": {
            "image/png": "[encoded data removed]",
            "text/plain": [
              "<Figure size 1080x1800 with 8 Axes>"
            ]
          },
          "metadata": {
            "tags": [],
            "needs_background": "light"
          }
        }
      ]
    },
    {
      "cell_type": "code",
      "metadata": {
        "colab": {
          "base_uri": "https://localhost:8080/"
        },
        "id": "UO5JsoOOH_ZW",
        "outputId": "542b6713-ee2d-4234-e159-26dd6ba5a873"
      },
      "source": [
        "example_idx = 6\n",
        "\n",
        "src = vars(valid_data.examples[example_idx])['src']\n",
        "trg = vars(valid_data.examples[example_idx])['trg']\n",
        "\n",
        "print(f'src = {src}')\n",
        "print(f'trg = {trg}')"
      ],
      "execution_count": 26,
      "outputs": [
        {
          "output_type": "stream",
          "text": [
            "src = ['un', 'chien', 'brun', 'court', 'après', 'le', 'chien', 'noir', '.']\n",
            "trg = ['a', 'brown', 'dog', 'is', 'running', 'after', 'the', 'black', 'dog', '.']\n"
          ],
          "name": "stdout"
        }
      ]
    },
    {
      "cell_type": "code",
      "metadata": {
        "colab": {
          "base_uri": "https://localhost:8080/"
        },
        "id": "s-IGD9pAH_ZX",
        "outputId": "ec9f08f0-07c6-45e0-cc05-954e88a60516"
      },
      "source": [
        "translation, attention = translate_sentence(src, SRC, TRG, model, device)\n",
        "\n",
        "print(f'predicted trg = {translation}')"
      ],
      "execution_count": 27,
      "outputs": [
        {
          "output_type": "stream",
          "text": [
            "predicted trg = ['a', 'brown', 'dog', 'chases', 'the', 'black', 'dog', '.', '<eos>']\n"
          ],
          "name": "stdout"
        }
      ]
    },
    {
      "cell_type": "code",
      "metadata": {
        "colab": {
          "base_uri": "https://localhost:8080/",
          "height": 1000
        },
        "id": "F38P-Lc2H_ZX",
        "outputId": "fbc12dfe-04fa-4b7b-c027-55c9c97137da"
      },
      "source": [
        "display_attention(src, translation, attention)"
      ],
      "execution_count": 28,
      "outputs": [
        {
          "output_type": "display_data",
          "data": {
            "image/png": "[encoded data removed]",
            "text/plain": [
              "<Figure size 1080x1800 with 8 Axes>"
            ]
          },
          "metadata": {
            "tags": [],
            "needs_background": "light"
          }
        }
      ]
    },
    {
      "cell_type": "code",
      "metadata": {
        "colab": {
          "base_uri": "https://localhost:8080/"
        },
        "id": "PsV0sTQVH_ZX",
        "outputId": "dad84684-d972-45c2-bcc2-12c23f873fd5"
      },
      "source": [
        "example_idx = 10\n",
        "\n",
        "src = vars(test_data.examples[example_idx])['src']\n",
        "trg = vars(test_data.examples[example_idx])['trg']\n",
        "\n",
        "print(f'src = {src}')\n",
        "print(f'trg = {trg}')"
      ],
      "execution_count": 29,
      "outputs": [
        {
          "output_type": "stream",
          "text": [
            "src = ['une', 'mère', 'et', 'son', 'jeune', 'fils', 'profitant', \"d'\", 'une', 'belle', 'journée', 'dehors', '.']\n",
            "trg = ['a', 'mother', 'and', 'her', 'young', 'song', 'enjoying', 'a', 'beautiful', 'day', 'outside', '.']\n"
          ],
          "name": "stdout"
        }
      ]
    },
    {
      "cell_type": "code",
      "metadata": {
        "colab": {
          "base_uri": "https://localhost:8080/"
        },
        "id": "UI6r0ENmH_ZY",
        "outputId": "d990ce7f-0f4d-4980-e904-0153de74f16e"
      },
      "source": [
        "translation, attention = translate_sentence(src, SRC, TRG, model, device)\n",
        "\n",
        "print(f'predicted trg = {translation}')"
      ],
      "execution_count": 30,
      "outputs": [
        {
          "output_type": "stream",
          "text": [
            "predicted trg = ['a', 'mother', 'and', 'her', 'toddler', 'enjoying', 'a', 'nice', 'day', 'outside', '.', '<eos>']\n"
          ],
          "name": "stdout"
        }
      ]
    },
    {
      "cell_type": "code",
      "metadata": {
        "colab": {
          "base_uri": "https://localhost:8080/",
          "height": 1000
        },
        "id": "le-Lc51qH_ZY",
        "outputId": "bf39bf2b-0982-48f5-ba46-ad2bc9d135bd"
      },
      "source": [
        "display_attention(src, translation, attention)"
      ],
      "execution_count": 31,
      "outputs": [
        {
          "output_type": "display_data",
          "data": {
            "image/png": "[encoded data removed]",
            "text/plain": [
              "<Figure size 1080x1800 with 8 Axes>"
            ]
          },
          "metadata": {
            "tags": [],
            "needs_background": "light"
          }
        }
      ]
    },
    {
      "cell_type": "code",
      "metadata": {
        "id": "CE74QdeTH_ZY"
      },
      "source": [
        "from torchtext.data.metrics import bleu_score\n",
        "\n",
        "def calculate_bleu(data, src_field, trg_field, model, device, max_len = 50):\n",
        "    \n",
        "    trgs = []\n",
        "    pred_trgs = []\n",
        "    \n",
        "    for datum in data:\n",
        "        \n",
        "        src = vars(datum)['src']\n",
        "        trg = vars(datum)['trg']\n",
        "        \n",
        "        pred_trg, _ = translate_sentence(src, src_field, trg_field, model, device, max_len)\n",
        "        \n",
        "        #cut off <eos> token\n",
        "        pred_trg = pred_trg[:-1]\n",
        "        \n",
        "        pred_trgs.append(pred_trg)\n",
        "        trgs.append([trg])\n",
        "        \n",
        "    return bleu_score(pred_trgs, trgs)"
      ],
      "execution_count": 32,
      "outputs": []
    },
    {
      "cell_type": "code",
      "metadata": {
        "colab": {
          "base_uri": "https://localhost:8080/"
        },
        "id": "tZKTZlSEH_ZZ",
        "outputId": "89fed0b5-d1bf-4360-bd01-a23c9a02df80"
      },
      "source": [
        "bleu_score = calculate_bleu(test_data, SRC, TRG, model, device)\n",
        "\n",
        "print(f'BLEU score = {bleu_score*100:.2f}')"
      ],
      "execution_count": 33,
      "outputs": [
        {
          "output_type": "stream",
          "text": [
            "BLEU score = 51.24\n"
          ],
          "name": "stdout"
        }
      ]
    },
    {
      "cell_type": "code",
      "metadata": {
        "id": "YundfDIYH_ZZ"
      },
      "source": [
        "def translate_sentence_vectorized(src_tensor, src_field, trg_field, model, device, max_len=50):\n",
        "    assert isinstance(src_tensor, torch.Tensor)\n",
        "\n",
        "    model.eval()\n",
        "    src_mask = model.make_src_mask(src_tensor)\n",
        "\n",
        "    with torch.no_grad():\n",
        "        enc_src = model.encoder(src_tensor, src_mask)\n",
        "    # enc_src = [batch_sz, src_len, hid_dim]\n",
        "\n",
        "    trg_indexes = [[trg_field.vocab.stoi[trg_field.init_token]] for _ in range(len(src_tensor))]\n",
        "    # Even though some examples might have been completed by producing a <eos> token\n",
        "    # we still need to feed them through the model because other are not yet finished\n",
        "    # and all examples act as a batch. Once every single sentence prediction encounters\n",
        "    # <eos> token, then we can stop predicting.\n",
        "    translations_done = [0] * len(src_tensor)\n",
        "    for i in range(max_len):\n",
        "        trg_tensor = torch.LongTensor(trg_indexes).to(device)\n",
        "        trg_mask = model.make_trg_mask(trg_tensor)\n",
        "        with torch.no_grad():\n",
        "            output, attention = model.decoder(trg_tensor, enc_src, trg_mask, src_mask)\n",
        "        pred_tokens = output.argmax(2)[:,-1]\n",
        "        for i, pred_token_i in enumerate(pred_tokens):\n",
        "            trg_indexes[i].append(pred_token_i)\n",
        "            if pred_token_i == trg_field.vocab.stoi[trg_field.eos_token]:\n",
        "                translations_done[i] = 1\n",
        "        if all(translations_done):\n",
        "            break\n",
        "\n",
        "    # Iterate through each predicted example one by one;\n",
        "    # Cut-off the portion including the after the <eos> token\n",
        "    pred_sentences = []\n",
        "    for trg_sentence in trg_indexes:\n",
        "        pred_sentence = []\n",
        "        for i in range(1, len(trg_sentence)):\n",
        "            if trg_sentence[i] == trg_field.vocab.stoi[trg_field.eos_token]:\n",
        "                break\n",
        "            pred_sentence.append(trg_field.vocab.itos[trg_sentence[i]])\n",
        "        pred_sentences.append(pred_sentence)\n",
        "\n",
        "    return pred_sentences, attention"
      ],
      "execution_count": null,
      "outputs": []
    },
    {
      "cell_type": "code",
      "metadata": {
        "id": "FTLiTQNWH_ZZ"
      },
      "source": [
        "from torchtext.data.metrics import bleu_score\n",
        "\n",
        "def calculate_bleu_alt(iterator, src_field, trg_field, model, device, max_len = 50):\n",
        "    trgs = []\n",
        "    pred_trgs = []\n",
        "    with torch.no_grad():\n",
        "        for batch in iterator:\n",
        "            src = batch.src\n",
        "            trg = batch.trg\n",
        "            _trgs = []\n",
        "            for sentence in trg:\n",
        "                tmp = []\n",
        "                # Start from the first token which skips the <start> token\n",
        "                for i in sentence[1:]:\n",
        "                    # Targets are padded. So stop appending as soon as a padding or eos token is encountered\n",
        "                    if i == trg_field.vocab.stoi[trg_field.eos_token] or i == trg_field.vocab.stoi[trg_field.pad_token]:\n",
        "                        break\n",
        "                    tmp.append(trg_field.vocab.itos[i])\n",
        "                _trgs.append([tmp])\n",
        "            trgs += _trgs\n",
        "            pred_trg, _ = translate_sentence_vectorized(src, src_field, trg_field, model, device)\n",
        "            pred_trgs += pred_trg\n",
        "    return pred_trgs, trgs, bleu_score(pred_trgs, trgs)"
      ],
      "execution_count": null,
      "outputs": []
    }
  ]
}