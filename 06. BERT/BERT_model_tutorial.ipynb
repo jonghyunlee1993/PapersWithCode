{
 "cells": [
  {
   "cell_type": "code",
   "execution_count": null,
   "id": "a3f57e2c",
   "metadata": {},
   "outputs": [],
   "source": [
    "#https://inhyeokyoo.github.io/project/nlp/bert-issue/\n",
    "\n",
    "import torch\n",
    "import torch.nn as nn\n",
    "\n",
    "class BERT(nn.Module):\n",
    "    def __init__(self, pad_token_id):\n",
    "        super(BERT, self).__init__()\n",
    "        self.pad_token_id  = pad_token_id\n",
    "        self.embedding     = BERTEmbedding()\n",
    "        self.encoder_layer = nn.TransformerEncoderLayer(d_model=512, nhead=8)\n",
    "        self.encoder_block = nn.TransformerEncoder(encoder_layer, num_layer=6)\n",
    "        \n",
    "        \n",
    "    def forward(self, data, segment_embedding):\n",
    "        pad_mask  = BERT.get_attn_pad_mask(data, data, self.pad_token_id)\n",
    "        embedding = self.embedding(data, segment_embedding)\n",
    "        output    = self.encoder_block(embedding, pad_mask) \n",
    "    \n",
    "    \n",
    "    @staticmethod\n",
    "    def get_attn_pad_mask(seq_q, seq_k, i_pad):\n",
    "        batch_size, len_q = seq_q.size()\n",
    "        batch_size, len_k = seq_k.size()\n",
    "        pad_attn_mask = seq_k.data.eq(i_pad)\n",
    "        pad_attn_mask= pad_attn_mask.unsqueeze(1).expand(batch_size, len_q, len_k)\n",
    "        \n",
    "        return pad_attn_mask"
   ]
  },
  {
   "cell_type": "code",
   "execution_count": null,
   "id": "705e1b38",
   "metadata": {},
   "outputs": [],
   "source": [
    "class BERTEmbedding(nn.Module):\n",
    "    def __init__(self):\n",
    "        super(BERTEmbedding, self).__init__()\n",
    "        \n",
    "        self.positional_encoding = PositionalEncoding()\n",
    "    \n",
    "    def forward(self, data, segment_embedding):\n",
    "        pass\n",
    "    \n",
    "    \n",
    "class PositionalEncoding(nn.Module):\n",
    "    def __init__(self, max_seq_len, embedding_dim, dropout_rate=0.1):\n",
    "        super(PositionalEncoding, self).__init__()\n",
    "        self.max_seq_len = max_seq_len\n",
    "        self.doupout     = nn.Dropout(dropout_rate)\n",
    "        self.embedding   = nn.Embedding(max_seq_len, embedding_dim)\n",
    "    \n",
    "    def forward(self, x):\n",
    "        torch.arange(start=0, end=max_seq_len, )"
   ]
  },
  {
   "cell_type": "code",
   "execution_count": null,
   "id": "3e3cdde8",
   "metadata": {},
   "outputs": [],
   "source": [
    "class MaskedLanguageModeling(nn.Module):\n",
    "    def __init__(self, bert, input_dim, output_dim):\n",
    "        super(MaskedLanguageModeling, self).__init__()\n",
    "        self.bert = bert\n",
    "        self.fc   = nn.Linear(input_dim, output_dim)\n",
    "    \n",
    "    def forward(self, x):\n",
    "        output = self.bert(x)\n",
    "        output = self.fc(output)\n",
    "        \n",
    "        return output\n",
    "    \n",
    "    \n",
    "class NextSentencePrediction(nn.Module):\n",
    "    def __init__(self, bert, input_dim, output_dim=2):\n",
    "        super(NextSentencePrediction, self).__init__()\n",
    "        self.bert = bert\n",
    "        self.fc   = nn.Linear(intput_dim, output_dim)\n",
    "        \n",
    "    def forward(self, x):\n",
    "        output = self.bert(x)\n",
    "        output = self.fc(output)\n",
    "        \n",
    "        return output[:, 0, :] # CLS token "
   ]
  }
 ],
 "metadata": {
  "kernelspec": {
   "display_name": "Python 3",
   "language": "python",
   "name": "python3"
  },
  "language_info": {
   "codemirror_mode": {
    "name": "ipython",
    "version": 3
   },
   "file_extension": ".py",
   "mimetype": "text/x-python",
   "name": "python",
   "nbconvert_exporter": "python",
   "pygments_lexer": "ipython3",
   "version": "3.8.0"
  }
 },
 "nbformat": 4,
 "nbformat_minor": 5
}
