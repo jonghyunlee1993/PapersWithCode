{
 "cells": [
  {
   "cell_type": "code",
   "execution_count": 1,
   "id": "25e71722",
   "metadata": {},
   "outputs": [],
   "source": [
    "import torch\n",
    "from transformers import BertTokenizerFast\n",
    "\n",
    "fpath='data/tokenizer_model'\n",
    "tokenizer = BertTokenizerFast.from_pretrained(fpath,\n",
    "                                              strip_accents=False,\n",
    "                                              lowercase=False)"
   ]
  },
  {
   "cell_type": "code",
   "execution_count": 2,
   "id": "d660f963",
   "metadata": {},
   "outputs": [],
   "source": [
    "class BERTLangaugeModelDataset(torch.utils.data.Dataset):\n",
    "    def __init__(self, data, tokenizer, max_seq_len=256, masking_ratio=0.15, NSP_ratio=0.5):\n",
    "        super(BERTLangaugeModelDataset, self).__init__()\n",
    "\n",
    "        self.data          = data        \n",
    "        self.tokenizer     = tokenizer\n",
    "        self.vocab         = tokenizer.vocab\n",
    "        self.max_seq_len   = max_seq_len\n",
    "        self.masking_ratio = masking_ratio\n",
    "        self.NSP_ratio     = NSP_ratio\n",
    "        \n",
    "        self.cls_token_id  = self.tokenizer.cls_token_id\n",
    "        self.sep_token_id  = self.tokenizer.sep_token_id\n",
    "        self.pad_token_id  = self.tokenizer.pad_token_id\n",
    "        self.mask_token_id = self.tokenizer.mask_token_id\n",
    "        \n",
    "    def __getitem__(self, sent_1_idx):       \n",
    "        sent_1 = self.tokenizer.encode(self.data[sent_1_idx])[1:-1]\n",
    "        sent_2_idx = sent_1_idx + 1\n",
    "        \n",
    "        # NSP\n",
    "        if torch.rand(1) >= self.NSP_ratio:\n",
    "            sent_2 = self.tokenizer.encode(self.data[sent_1_idx + 1])[1:-1]\n",
    "            is_next = torch.tensor(1)\n",
    "        else:\n",
    "            while sent_2_idx == sent_1_idx + 1:\n",
    "                sent_2_idx = torch.randint(0, len(self.data), (1,))\n",
    "            is_next = torch.tensor(0)\n",
    "\n",
    "        sent_2 = self.tokenizer.encode(self.data[sent_2_idx])[1:-1]\n",
    "        \n",
    "        # if length of (sent 1 + sent 2) longer than threshold\n",
    "        # CLS, SEP 1 and 2\n",
    "        if len(sent_1) + len(sent_2) >= self.max_seq_len - 3:\n",
    "            if len(sent_1) >= self.max_seq_len -3:\n",
    "                sent_1 = sent_1[:int(self.max_seq_len/2)]\n",
    "            \n",
    "            sent_2 = sent_2[:self.max_seq_len - 3 - len(sent_1)]\n",
    "        \n",
    "        pad_length = self.max_seq_len - 3 - len(sent_1) - len(sent_2)\n",
    "        target = torch.tensor([self.cls_token_id] + sent_1 + [self.sep_token_id] + sent_2 + [self.sep_token_id] + [self.pad_token_id] * pad_length).long().contiguous()        \n",
    "\n",
    "        sengment_embedding = torch.zeros(target.size(0))\n",
    "        sengment_embedding[(len(sent_1) + 2):] = 1\n",
    "        \n",
    "        # MLM\n",
    "        train = torch.cat([\n",
    "            torch.tensor([self.cls_token_id]), \n",
    "            self.masking(sent_1),\n",
    "            torch.tensor([self.sep_token_id]),\n",
    "            self.masking(sent_2),\n",
    "            torch.tensor([self.sep_token_id]),\n",
    "            torch.tensor([self.pad_token_id] * pad_length)\n",
    "        ]).long().contiguous()\n",
    "                \n",
    "        return train, target, sengment_embedding, is_next\n",
    "        \n",
    "    \n",
    "    def __len__(self):\n",
    "        return len(self.data)\n",
    "    \n",
    "    \n",
    "    def __iter__(self):\n",
    "        for x in self.data:\n",
    "            yield x\n",
    "            \n",
    "    \n",
    "    def get_vocab(self):\n",
    "        return self.vocab\n",
    "    \n",
    "    \n",
    "    def decode(self, x):\n",
    "        return self.tokenizer.batch_decode(x)\n",
    "    \n",
    "    \n",
    "    # TODO mask 안에서 random 으로 바꿔주는 것 추가\n",
    "    def masking(self, x):\n",
    "        x = torch.tensor(x).long().contiguous()\n",
    "        masking_idx   = torch.randperm(x.size()[0])[:round(x.size()[0] * self.masking_ratio) + 1]       \n",
    "        masking_label = torch.zeros(x.size()[0])\n",
    "        masking_label[masking_idx] = 1\n",
    "        x = x.masked_fill(masking_label.bool(), self.mask_token_id)\n",
    "        \n",
    "        return x  "
   ]
  },
  {
   "cell_type": "code",
   "execution_count": 3,
   "id": "242a1232",
   "metadata": {
    "scrolled": false
   },
   "outputs": [],
   "source": [
    "with open(\"data/petitions.txt\", 'r') as f:\n",
    "    data = f.readlines()\n",
    "\n",
    "    \n",
    "proced_data = [line.replace(\"\\n\", \"\") for line in data]\n",
    "# proced_data = []\n",
    "# for line in data:\n",
    "#     proced_data.append(line.replace(\"\\n\", \"\").split(\" \"))"
   ]
  },
  {
   "cell_type": "code",
   "execution_count": 6,
   "id": "439be9c9",
   "metadata": {
    "scrolled": false
   },
   "outputs": [
    {
     "data": {
      "application/vnd.jupyter.widget-view+json": {
       "model_id": "a4184b168dcc45808a0b2750510b8f23",
       "version_major": 2,
       "version_minor": 0
      },
      "text/plain": [
       "  0%|          | 0/36320 [00:00<?, ?it/s]"
      ]
     },
     "metadata": {},
     "output_type": "display_data"
    },
    {
     "name": "stdout",
     "output_type": "stream",
     "text": [
      "torch.Size([5, 256])\n"
     ]
    }
   ],
   "source": [
    "from tqdm.notebook import tqdm\n",
    "\n",
    "dataset = BERTLangaugeModelDataset(data=proced_data, tokenizer=tokenizer)\n",
    "data_loader = torch.utils.data.DataLoader(dataset, batch_size=5, shuffle=True)\n",
    "\n",
    "for batch, (mlm_train, mlm_target, sengment_embedding, is_next) in tqdm(enumerate(data_loader), total=len(data_loader)):\n",
    "    print(mlm_train.shape)\n",
    "#     print(tokenizer.batch_decode(mlm_train))\n",
    "#     print(tokenizer.batch_decode(mlm_target))\n",
    "#     print(sengment_embedding)\n",
    "#     print(is_next)\n",
    "    break\n",
    "    "
   ]
  },
  {
   "cell_type": "code",
   "execution_count": null,
   "id": "babe67a5",
   "metadata": {},
   "outputs": [],
   "source": []
  },
  {
   "cell_type": "code",
   "execution_count": null,
   "id": "24f44cb5",
   "metadata": {},
   "outputs": [],
   "source": []
  }
 ],
 "metadata": {
  "kernelspec": {
   "display_name": "Python 3",
   "language": "python",
   "name": "python3"
  },
  "language_info": {
   "codemirror_mode": {
    "name": "ipython",
    "version": 3
   },
   "file_extension": ".py",
   "mimetype": "text/x-python",
   "name": "python",
   "nbconvert_exporter": "python",
   "pygments_lexer": "ipython3",
   "version": "3.8.0"
  }
 },
 "nbformat": 4,
 "nbformat_minor": 5
}
