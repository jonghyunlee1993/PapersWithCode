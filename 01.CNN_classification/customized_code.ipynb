{
 "cells": [
  {
   "cell_type": "code",
   "execution_count": 40,
   "metadata": {},
   "outputs": [
    {
     "name": "stdout",
     "output_type": "stream",
     "text": [
      "PyTorch version: 1.7.1\n",
      "Torchtext version: 0.8.0a0+0f911ec\n"
     ]
    }
   ],
   "source": [
    "import os\n",
    "import re\n",
    "import time\n",
    "import json\n",
    "import torch\n",
    "import random\n",
    "import codecs\n",
    "import gensim\n",
    "import torchtext\n",
    "import numpy as np\n",
    "import pandas as pd\n",
    "\n",
    "from tqdm.notebook import tqdm\n",
    "\n",
    "import warnings\n",
    "warnings.filterwarnings(action='ignore')\n",
    "\n",
    "print(f\"PyTorch version: {torch.__version__}\\nTorchtext version: {torchtext.__version__}\")"
   ]
  },
  {
   "cell_type": "code",
   "execution_count": 4,
   "metadata": {},
   "outputs": [
    {
     "data": {
      "text/plain": [
       "<torch._C.Generator at 0x7fea095d4a50>"
      ]
     },
     "execution_count": 4,
     "metadata": {},
     "output_type": "execute_result"
    }
   ],
   "source": [
    "SEED = 1234\n",
    "\n",
    "random.seed(SEED)\n",
    "np.random.seed(SEED)\n",
    "torch.manual_seed(SEED)\n",
    "# torch.backend.cudnn.deterministic = True"
   ]
  },
  {
   "cell_type": "code",
   "execution_count": 5,
   "metadata": {},
   "outputs": [],
   "source": [
    "def text_preprocessing(string):\n",
    "    \"\"\"\n",
    "    Tokenization/string cleaning for all datasets except for SST.\n",
    "    Every dataset is lower cased except for TREC\n",
    "    \"\"\"\n",
    "    string = re.sub(r\"[^A-Za-z0-9(),!?\\'\\`]\", \" \", string)     \n",
    "    string = re.sub(r\"\\'s\", \" \\'s\", string) \n",
    "    string = re.sub(r\"\\'ve\", \" \\'ve\", string) \n",
    "    string = re.sub(r\"n\\'t\", \" n\\'t\", string) \n",
    "    string = re.sub(r\"\\'re\", \" \\'re\", string) \n",
    "    string = re.sub(r\"\\'d\", \" \\'d\", string) \n",
    "    string = re.sub(r\"\\'ll\", \" \\'ll\", string) \n",
    "    string = re.sub(r\",\", \" , \", string) \n",
    "    string = re.sub(r\"!\", \" ! \", string) \n",
    "    string = re.sub(r\"\\(\", \" \\( \", string) \n",
    "    string = re.sub(r\"\\)\", \" \\) \", string) \n",
    "    string = re.sub(r\"\\?\", \" \\? \", string) \n",
    "    string = re.sub(r\"\\s{2,}\", \" \", string)\n",
    "    \n",
    "    return string.strip().lower()"
   ]
  },
  {
   "cell_type": "code",
   "execution_count": 36,
   "metadata": {},
   "outputs": [],
   "source": [
    "def build_data(data_path, cv=10):\n",
    "  \n",
    "    with open(os.path.join(data_path, \"rt-polarity.pos\"), \"r\") as f:\n",
    "        pos = f.read()\n",
    "    \n",
    "    with open(os.path.join(data_path, \"rt-polarity.neg\"), \"r\") as f:\n",
    "        neg = f.read()\n",
    "        \n",
    "    pos_sentences = [text_preprocessing(sent) for sent in pos.split('\\n')[:-1]]\n",
    "    neg_sentences = [text_preprocessing(sent) for sent in neg.split('\\n')[:-1]]\n",
    "    \n",
    "    pos_length = len(pos_sentences)\n",
    "    neg_length = len(neg_sentences)\n",
    "    tot_length = pos_length + neg_length\n",
    "    \n",
    "    print(f'Positive: {pos_length}\\nNegative: {neg_length}\\nTotal: {tot_length}')\n",
    "    \n",
    "    reviews = [0] * tot_length\n",
    "\n",
    "    for i, sent in enumerate(pos_sentences):\n",
    "        datum = {'label': 1,\n",
    "                 'text': sent}\n",
    "        reviews[i] = datum\n",
    "\n",
    "    for j, sent in enumerate(neg_sentences):\n",
    "        datum = {'label': 0,\n",
    "                 'text': sent}\n",
    "        reviews[pos_length + j] = datum\n",
    "\n",
    "    word_to_idx = {'@pad': 0}\n",
    "\n",
    "    for sentence in pos_sentences + neg_sentences:\n",
    "        for word in sentence.split():\n",
    "            if word not in word_to_idx:\n",
    "                word_to_idx[word] = len(word_to_idx)\n",
    "\n",
    "    print(f'number of reviews: {len(reviews)}\\nnumber of vocabularies: {len(word_to_idx)}')\n",
    "    \n",
    "    result_fname = os.path.join(data_path, 'polarity_df.csv')\n",
    "    if not os.path.isfile(result_fname):\n",
    "        df = pd.DataFrame(reviews) \n",
    "        df.to_csv(os.path.join(data_path, 'polarity_df.csv'), index=False, encoding='utf-8')\n",
    "        print('reviews was successfully saved!')\n",
    "    else:\n",
    "        print('reviews was already exist!')\n",
    "    \n",
    "    return reviews, word_to_idx"
   ]
  },
  {
   "cell_type": "code",
   "execution_count": 37,
   "metadata": {},
   "outputs": [
    {
     "name": "stdout",
     "output_type": "stream",
     "text": [
      "Positive: 5331\n",
      "Negative: 5331\n",
      "Total: 10662\n",
      "number of reviews: 10662\n",
      "number of vocabularies: 18765\n",
      "reviews was already exist!\n"
     ]
    }
   ],
   "source": [
    "data_path = \"data\"\n",
    "revs, word_to_idx = build_data(data_path)"
   ]
  },
  {
   "cell_type": "code",
   "execution_count": 41,
   "metadata": {
    "scrolled": true
   },
   "outputs": [
    {
     "name": "stdout",
     "output_type": "stream",
     "text": [
      "train_data: 9596\n",
      "test data: 1066\n"
     ]
    }
   ],
   "source": [
    "BATCH_SIZE = 64\n",
    "device = torch.device('cuda' if torch.cuda.is_available() else 'cpu')\n",
    "\n",
    "TEXT   = torchtext.data.Field(sequential=True, tokenize=str.split, batch_first=True, fix_length=56, lower=True)\n",
    "LABEL  = torchtext.data.LabelField(sequential=False, dtype=torch.float)\n",
    "FIELDS = [('label', LABEL), ('text', TEXT)]\n",
    "\n",
    "dataset = torchtext.data.TabularDataset(os.path.join(data_path, \"polarity_df.csv\"), fields=FIELDS, format='csv', skip_header=True)\n",
    "\n",
    "train_data, test_data = dataset.split(random_state=random.seed(SEED), split_ratio=0.9)\n",
    "\n",
    "print(f'train_data: {len(train_data)}\\ntest data: {len(test_data)}')"
   ]
  },
  {
   "cell_type": "code",
   "execution_count": 42,
   "metadata": {},
   "outputs": [],
   "source": [
    "w2v = gensim.models.KeyedVectors.load_word2vec_format(os.path.join(data_path, 'GoogleNews-vectors-negative300.bin.gz'), binary = True)\n",
    "\n",
    "TEXT.build_vocab(train_data)\n",
    "LABEL.build_vocab(train_data)"
   ]
  },
  {
   "cell_type": "code",
   "execution_count": 76,
   "metadata": {
    "scrolled": true
   },
   "outputs": [
    {
     "data": {
      "application/vnd.jupyter.widget-view+json": {
       "model_id": "83c3b7ad0c57430f83f35df492c5d722",
       "version_major": 2,
       "version_minor": 0
      },
      "text/plain": [
       "  0%|          | 0/18766 [00:00<?, ?it/s]"
      ]
     },
     "metadata": {},
     "output_type": "display_data"
    },
    {
     "name": "stdout",
     "output_type": "stream",
     "text": [
      "18766\n"
     ]
    }
   ],
   "source": [
    "INITIALIZE_MODE = 1\n",
    "\n",
    "EMBEDDING_DIM = 300\n",
    "w2v_vectors = []\n",
    "\n",
    "for token, idx in tqdm(TEXT.vocab.stoi.items()):\n",
    "    if token in w2v.wv.vocab.keys():\n",
    "        w2v_vectors.append(torch.FloatTensor(w2v[token]))\n",
    "    else:\n",
    "        # unk -> 0\n",
    "        if INITIALIZE_MODE == 0:\n",
    "            w2v_vectors.append(torch.zeros(EMBEDDING_DIM))\n",
    "        # unk -> uniform\n",
    "        elif INITIALIZE_MODE == 1:\n",
    "            w2v_vectors.append(torch.distributions.Uniform(-0.25, +0.25).sample((EMBEDDING_DIM, )))\n",
    "        \n",
    "print(len(w2v_vectors))"
   ]
  },
  {
   "cell_type": "code",
   "execution_count": 77,
   "metadata": {},
   "outputs": [],
   "source": [
    "# making iterators\n",
    "train_iterator,  test_iterator = torchtext.data.BucketIterator.splits(\n",
    "    (train_data, test_data), \n",
    "    batch_size=BATCH_SIZE, \n",
    "    device=device, \n",
    "    sort=False, \n",
    "    shuffle = True)"
   ]
  },
  {
   "cell_type": "code",
   "execution_count": 78,
   "metadata": {},
   "outputs": [],
   "source": [
    "import torch.nn as nn\n",
    "import torch.nn.functional as F\n",
    "\n",
    "class CNN1d(nn.Module):\n",
    "    def __init__(self, vocab_size, pretrained_embedding, embedding_dim, n_filters, filter_sizes, output_dim, \n",
    "                 dropout, pad_idx, freeze_mode):\n",
    "        super().__init__()\n",
    "        \n",
    "        self.embedding = nn.Embedding(vocab_size, embedding_dim, padding_idx=pad_idx)\n",
    "        self.embedding.from_pretrained(pretrained_embedding.clone().detach(), \n",
    "                                                freeze=freeze_mode)\n",
    "        self.convs = nn.ModuleList([\n",
    "                                    nn.Conv1d(in_channels=embedding_dim,\n",
    "                                              out_channels=n_filters,\n",
    "                                              kernel_size=fs)\n",
    "                                    for fs in filter_sizes\n",
    "                                    ])\n",
    "        self.fc = nn.Linear(len(filter_sizes) * n_filters, output_dim)\n",
    "        self.dropout = nn.Dropout(dropout)\n",
    "\n",
    "    def forward(self, text):\n",
    "        #in: [batch size, sent len]\n",
    "        embedded = self.embedding(text) \n",
    "        #out: [batch size, sent len, emb dim]\n",
    "        \n",
    "        embedded = embedded.permute(0, 2, 1)\n",
    "        #out: [batch size, emb dim, sent len]\n",
    "\n",
    "        conved = [F.tanh(conv(embedded)) for conv in self.convs]\n",
    "        #out: [batch size, n_filters, sent len - filter_sizes[n] + 1]\n",
    "\n",
    "        pooled = [F.max_pool1d(conv, conv.shape[2]).squeeze(2) for conv in conved]\n",
    "        #out: [batch size, n_filters]\n",
    "\n",
    "        cat = self.dropout(torch.cat(pooled, dim = 1))\n",
    "        #out: [batch size, n_filters * len(filter_sizes)]\n",
    "            \n",
    "        return self.fc(cat)"
   ]
  },
  {
   "cell_type": "code",
   "execution_count": 79,
   "metadata": {},
   "outputs": [],
   "source": [
    "TEXT.vocab.set_vectors(TEXT.vocab.stoi, w2v_vectors, EMBEDDING_DIM)\n",
    "pretrained_embeddings = torch.FloatTensor(TEXT.vocab.vectors)"
   ]
  },
  {
   "cell_type": "code",
   "execution_count": 80,
   "metadata": {},
   "outputs": [
    {
     "name": "stdout",
     "output_type": "stream",
     "text": [
      "INPUT_DIM 17863\n",
      "EMBEDDING_DIM 300\n",
      "PAD_IDX 1\n",
      "UNK_IDX 0\n"
     ]
    }
   ],
   "source": [
    "VOCAB_SIZE = len(TEXT.vocab)\n",
    "PRETRAINED_EMBEDDINGS = pretrained_embeddings\n",
    "EMBEDDING_DIM = 300\n",
    "N_FILTERS = 100\n",
    "FILTER_SIZES = [3, 4, 5]\n",
    "OUTPUT_DIM = 1\n",
    "DROPOUT = 0.5\n",
    "PAD_IDX = TEXT.vocab.stoi[TEXT.pad_token]\n",
    "UNK_IDX = TEXT.vocab.stoi[TEXT.unk_token]\n",
    "FREEZE_MODE = True\n",
    "\n",
    "print('INPUT_DIM', INPUT_DIM)\n",
    "print('EMBEDDING_DIM', EMBEDDING_DIM)\n",
    "print('PAD_IDX', PAD_IDX)\n",
    "print('UNK_IDX', UNK_IDX)"
   ]
  },
  {
   "cell_type": "code",
   "execution_count": 81,
   "metadata": {},
   "outputs": [
    {
     "name": "stdout",
     "output_type": "stream",
     "text": [
      "The model has 5,719,501 trainable parameters\n"
     ]
    }
   ],
   "source": [
    "def count_parameters(model):\n",
    "    return sum(p.numel() for p in model.parameters() if p.requires_grad)\n",
    "\n",
    "model = CNN1d(VOCAB_SIZE, PRETRAINED_EMBEDDINGS, EMBEDDING_DIM, N_FILTERS, \n",
    "              FILTER_SIZES, OUTPUT_DIM, DROPOUT, PAD_IDX, FREEZE_MODE)\n",
    "print(f'The model has {count_parameters(model):,} trainable parameters')"
   ]
  },
  {
   "cell_type": "code",
   "execution_count": 83,
   "metadata": {},
   "outputs": [],
   "source": [
    "optimizer = torch.optim.Adadelta(model.parameters())\n",
    "\n",
    "# BCEWithLogitsLoss automatically does softmax function\n",
    "criterion = torch.nn.BCEWithLogitsLoss()\n",
    "\n",
    "model     = model.to(device)\n",
    "criterion = criterion.to(device)"
   ]
  },
  {
   "cell_type": "code",
   "execution_count": 84,
   "metadata": {},
   "outputs": [],
   "source": [
    "def binary_accuracy(preds, y):\n",
    "    \"\"\"\n",
    "    Returns accuracy per batch, i.e. if you get 8/10 right, this returns 0.8, NOT 8\n",
    "    \"\"\"\n",
    "\n",
    "    #round predictions to the closest integer\n",
    "    rounded_preds = torch.round(torch.sigmoid(preds))\n",
    "    correct = (rounded_preds == y).float()\n",
    "    acc = correct.sum() / len(correct)\n",
    "    \n",
    "    return acc"
   ]
  },
  {
   "cell_type": "code",
   "execution_count": 85,
   "metadata": {},
   "outputs": [],
   "source": [
    "def train(model, iterator, optimizer, criterion):\n",
    "    epoch_loss = 0\n",
    "    epoch_acc = 0\n",
    "    \n",
    "    model.train()\n",
    "    \n",
    "    for batch in iterator:\n",
    "        \n",
    "        optimizer.zero_grad()\n",
    "        \n",
    "        predictions = model(batch.text).squeeze(1)\n",
    "        loss = criterion(predictions, batch.label)\n",
    "        acc = binary_accuracy(predictions, batch.label)\n",
    "        \n",
    "        loss.backward()\n",
    "        optimizer.step()\n",
    "        \n",
    "        #  l2 norm (weight contraints): 3\n",
    "        with torch.no_grad():\n",
    "            for param in model.parameters():\n",
    "                param.clamp_(min=-3, max=3)\n",
    "        \n",
    "        epoch_loss += loss.item()\n",
    "        epoch_acc += acc.item()\n",
    "        \n",
    "    return epoch_loss / len(iterator), epoch_acc / len(iterator)\n",
    "\n",
    "def evaluate(model, iterator, criterion):\n",
    "    epoch_loss = 0\n",
    "    epoch_acc = 0\n",
    "    \n",
    "    model.eval()\n",
    "    \n",
    "    with torch.no_grad():\n",
    "    \n",
    "        for batch in iterator:\n",
    "            predictions = model(batch.text).squeeze(1)\n",
    "            loss = criterion(predictions, batch.label)\n",
    "            acc = binary_accuracy(predictions, batch.label)\n",
    "\n",
    "            epoch_loss += loss.item()\n",
    "            epoch_acc += acc.item()\n",
    "        \n",
    "    return epoch_loss / len(iterator), epoch_acc / len(iterator)\n",
    "\n",
    "def epoch_time(start_time, end_time):\n",
    "    elapsed_time = end_time - start_time\n",
    "    elapsed_mins = int(elapsed_time / 60)\n",
    "    elapsed_secs = int(elapsed_time - (elapsed_mins * 60))\n",
    "    \n",
    "    return elapsed_mins, elapsed_secs"
   ]
  },
  {
   "cell_type": "code",
   "execution_count": 87,
   "metadata": {},
   "outputs": [
    {
     "name": "stdout",
     "output_type": "stream",
     "text": [
      "Epoch: 01 | Epoch Time: 0m 26s\n",
      "\tTrain Loss: 0.444 | Train Acc: 78.83%\n",
      "\tTest Loss: 0.627 |  Val. Acc: 65.96%\n",
      "Epoch: 02 | Epoch Time: 0m 26s\n",
      "\tTrain Loss: 0.391 | Train Acc: 82.00%\n",
      "\tTest Loss: 0.658 |  Val. Acc: 65.27%\n",
      "Epoch: 03 | Epoch Time: 0m 26s\n",
      "\tTrain Loss: 0.325 | Train Acc: 86.05%\n",
      "\tTest Loss: 0.675 |  Val. Acc: 66.37%\n",
      "Epoch: 04 | Epoch Time: 0m 26s\n",
      "\tTrain Loss: 0.273 | Train Acc: 88.70%\n",
      "\tTest Loss: 0.704 |  Val. Acc: 65.19%\n",
      "Epoch: 05 | Epoch Time: 0m 26s\n",
      "\tTrain Loss: 0.223 | Train Acc: 91.10%\n",
      "\tTest Loss: 0.754 |  Val. Acc: 66.93%\n",
      "Epoch: 06 | Epoch Time: 0m 26s\n",
      "\tTrain Loss: 0.214 | Train Acc: 91.40%\n",
      "\tTest Loss: 0.774 |  Val. Acc: 65.64%\n",
      "Epoch: 07 | Epoch Time: 0m 26s\n",
      "\tTrain Loss: 0.175 | Train Acc: 93.42%\n",
      "\tTest Loss: 0.839 |  Val. Acc: 64.75%\n",
      "Epoch: 08 | Epoch Time: 0m 26s\n",
      "\tTrain Loss: 0.150 | Train Acc: 94.30%\n",
      "\tTest Loss: 0.877 |  Val. Acc: 63.93%\n",
      "Epoch: 09 | Epoch Time: 0m 26s\n",
      "\tTrain Loss: 0.135 | Train Acc: 94.66%\n",
      "\tTest Loss: 0.881 |  Val. Acc: 64.81%\n",
      "Epoch: 10 | Epoch Time: 0m 26s\n",
      "\tTrain Loss: 0.117 | Train Acc: 95.55%\n",
      "\tTest Loss: 0.907 |  Val. Acc: 64.82%\n"
     ]
    }
   ],
   "source": [
    "N_EPOCHS = 10\n",
    "best_test_loss = float('inf')\n",
    "\n",
    "for epoch in range(N_EPOCHS):\n",
    "    start_time = time.time()\n",
    "    \n",
    "    train_loss, train_acc = train(model, train_iterator, optimizer, criterion)\n",
    "    test_loss, test_acc = evaluate(model, test_iterator, criterion)\n",
    "    \n",
    "    end_time = time.time()\n",
    "\n",
    "    epoch_mins, epoch_secs = epoch_time(start_time, end_time)\n",
    "    \n",
    "    if test_loss < best_test_loss:\n",
    "        best_test_loss = test_loss\n",
    "        torch.save(model.state_dict(), os.path.join('weights', 'latest_weigths.pt'))\n",
    "    \n",
    "    print(f'Epoch: {epoch + 1:02} | Epoch Time: {epoch_mins}m {epoch_secs}s')\n",
    "    print(f'\\tTrain Loss: {train_loss:.3f} | Train Acc: {train_acc * 100:.2f}%')\n",
    "    print(f'\\tTest Loss: {test_loss:.3f} |  Val. Acc: {test_acc * 100:.2f}%')"
   ]
  },
  {
   "cell_type": "code",
   "execution_count": 88,
   "metadata": {},
   "outputs": [
    {
     "name": "stdout",
     "output_type": "stream",
     "text": [
      "Test Loss: 0.628 | Test Acc: 66.01%\n"
     ]
    }
   ],
   "source": [
    "model.load_state_dict(torch.load(os.path.join('weights', 'latest_weigths.pt')))\n",
    "test_loss, test_acc = evaluate(model, test_iterator, criterion)\n",
    "\n",
    "print(f'Test Loss: {test_loss:.3f} | Test Acc: {test_acc * 100:.2f}%')"
   ]
  },
  {
   "cell_type": "code",
   "execution_count": 89,
   "metadata": {},
   "outputs": [
    {
     "name": "stdout",
     "output_type": "stream",
     "text": [
      "predicted lable: Pos\n",
      "probability: 0.6164743304252625\n"
     ]
    }
   ],
   "source": [
    "def predict(sentence, model, fixed_length=56):\n",
    "    word2id = []\n",
    "\n",
    "    for word in my_sentence.split():\n",
    "        word2id.append(TEXT.vocab.stoi[word])\n",
    "        \n",
    "    word2id = word2id + [1] * (fixed_length - len(word2id))\n",
    "    input_tensor = torch.LongTensor(word2id).to(device).unsqueeze(0)\n",
    "    probability = np.squeeze(torch.sigmoid(model(input_tensor)).detach().numpy()[0], 0)\n",
    "    predicted_label = 'Pos' if probability >= 0.5 else 'Neg' \n",
    "    \n",
    "    return probability, predicted_label\n",
    "\n",
    "my_sentence = \"this film is terrible\"\n",
    "probability, predicted_label = predict(my_sentence, model)\n",
    "\n",
    "print(f\"predicted lable: {predicted_label}\\nprobability: {probability}\")\n"
   ]
  },
  {
   "cell_type": "code",
   "execution_count": null,
   "metadata": {},
   "outputs": [],
   "source": []
  }
 ],
 "metadata": {
  "kernelspec": {
   "display_name": "Python 3",
   "language": "python",
   "name": "python3"
  },
  "language_info": {
   "codemirror_mode": {
    "name": "ipython",
    "version": 3
   },
   "file_extension": ".py",
   "mimetype": "text/x-python",
   "name": "python",
   "nbconvert_exporter": "python",
   "pygments_lexer": "ipython3",
   "version": "3.7.9"
  }
 },
 "nbformat": 4,
 "nbformat_minor": 4
}
